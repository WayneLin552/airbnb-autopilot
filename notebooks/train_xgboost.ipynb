{
 "cells": [
  {
   "cell_type": "code",
   "execution_count": 1,
   "id": "db3431bc",
   "metadata": {},
   "outputs": [
    {
     "name": "stderr",
     "output_type": "stream",
     "text": [
      "<frozen importlib._bootstrap>:219: RuntimeWarning: scipy._lib.messagestream.MessageStream size changed, may indicate binary incompatibility. Expected 56 from C header, got 64 from PyObject\n"
     ]
    }
   ],
   "source": [
    "import pandas as pd\n",
    "import numpy as np\n",
    "import matplotlib.pyplot as plt\n",
    "import seaborn as sns\n",
    "from xgboost import XGBRegressor\n",
    "from sklearn import model_selection\n",
    "from sklearn import metrics\n",
    "from sklearn.linear_model import Ridge\n",
    "from sklearn.preprocessing import StandardScaler\n",
    "import warnings\n",
    "warnings.filterwarnings('ignore')\n"
   ]
  },
  {
   "cell_type": "code",
   "execution_count": 2,
   "id": "1ce38798",
   "metadata": {},
   "outputs": [],
   "source": [
    "df = pd.read_csv('./data/after_preprocessing/final.csv',encoding='utf-8',index_col=0)\n",
    "df.head()\n",
    "x = df.drop(['Name','Host ID','Host Since','Price'],axis=1)\n",
    "y = df.Price"
   ]
  },
  {
   "cell_type": "code",
   "execution_count": 3,
   "id": "1c64d692",
   "metadata": {},
   "outputs": [
    {
     "data": {
      "text/plain": [
       "50.32912850693795"
      ]
     },
     "execution_count": 3,
     "metadata": {},
     "output_type": "execute_result"
    }
   ],
   "source": [
    "x_dev, x_test, y_dev, y_test=model_selection.train_test_split(x,y,test_size=0.2,random_state=42)\n",
    "st = StandardScaler()\n",
    "x_dev_st = st.fit_transform(x_dev)\n",
    "x_test_st = st.transform(x_test)\n",
    "\n",
    "ri = Ridge(random_state=42)\n",
    "ri.fit(x_dev_st,y_dev)\n",
    "predict = ri.predict(x_test_st)\n",
    "metrics.mean_absolute_error(y_test,predict)\n"
   ]
  },
  {
   "cell_type": "code",
   "execution_count": 27,
   "id": "57ca896c",
   "metadata": {
    "scrolled": true
   },
   "outputs": [
    {
     "name": "stdout",
     "output_type": "stream",
     "text": [
      "Fitting 5 folds for each of 12 candidates, totalling 60 fits\n",
      "[CV 1/5] END .max_depth=3, min_child_weight=1;, score=-40.311 total time=  12.2s\n",
      "[CV 2/5] END .max_depth=3, min_child_weight=1;, score=-40.117 total time=  12.4s\n",
      "[CV 3/5] END .max_depth=3, min_child_weight=1;, score=-40.136 total time=  12.7s\n",
      "[CV 4/5] END .max_depth=3, min_child_weight=1;, score=-40.713 total time=  12.6s\n",
      "[CV 5/5] END .max_depth=3, min_child_weight=1;, score=-40.575 total time=  12.7s\n",
      "[CV 1/5] END .max_depth=3, min_child_weight=3;, score=-40.419 total time=  12.6s\n",
      "[CV 2/5] END .max_depth=3, min_child_weight=3;, score=-40.244 total time=  12.5s\n",
      "[CV 3/5] END .max_depth=3, min_child_weight=3;, score=-40.166 total time=  12.6s\n",
      "[CV 4/5] END .max_depth=3, min_child_weight=3;, score=-40.785 total time=  12.5s\n",
      "[CV 5/5] END .max_depth=3, min_child_weight=3;, score=-40.574 total time=  12.7s\n",
      "[CV 1/5] END .max_depth=3, min_child_weight=5;, score=-40.438 total time=  12.7s\n",
      "[CV 2/5] END .max_depth=3, min_child_weight=5;, score=-40.183 total time=  12.5s\n",
      "[CV 3/5] END .max_depth=3, min_child_weight=5;, score=-40.121 total time=  12.6s\n",
      "[CV 4/5] END .max_depth=3, min_child_weight=5;, score=-40.698 total time=  12.7s\n",
      "[CV 5/5] END .max_depth=3, min_child_weight=5;, score=-40.630 total time=  12.6s\n",
      "[CV 1/5] END .max_depth=5, min_child_weight=1;, score=-38.319 total time=  22.3s\n",
      "[CV 2/5] END .max_depth=5, min_child_weight=1;, score=-38.123 total time=  22.2s\n",
      "[CV 3/5] END .max_depth=5, min_child_weight=1;, score=-38.309 total time=  22.0s\n",
      "[CV 4/5] END .max_depth=5, min_child_weight=1;, score=-38.734 total time=  22.2s\n",
      "[CV 5/5] END .max_depth=5, min_child_weight=1;, score=-38.516 total time=  21.9s\n",
      "[CV 1/5] END .max_depth=5, min_child_weight=3;, score=-38.072 total time=  21.8s\n",
      "[CV 2/5] END .max_depth=5, min_child_weight=3;, score=-38.132 total time=  21.9s\n",
      "[CV 3/5] END .max_depth=5, min_child_weight=3;, score=-38.250 total time=  21.8s\n",
      "[CV 4/5] END .max_depth=5, min_child_weight=3;, score=-38.895 total time=  21.7s\n",
      "[CV 5/5] END .max_depth=5, min_child_weight=3;, score=-38.501 total time=  22.3s\n",
      "[CV 1/5] END .max_depth=5, min_child_weight=5;, score=-38.252 total time=  21.9s\n",
      "[CV 2/5] END .max_depth=5, min_child_weight=5;, score=-38.126 total time=  21.8s\n",
      "[CV 3/5] END .max_depth=5, min_child_weight=5;, score=-38.366 total time=  22.1s\n",
      "[CV 4/5] END .max_depth=5, min_child_weight=5;, score=-38.797 total time=  21.9s\n",
      "[CV 5/5] END .max_depth=5, min_child_weight=5;, score=-38.531 total time=  22.0s\n",
      "[CV 1/5] END .max_depth=7, min_child_weight=1;, score=-37.857 total time=  51.8s\n",
      "[CV 2/5] END .max_depth=7, min_child_weight=1;, score=-37.788 total time=  51.6s\n",
      "[CV 3/5] END .max_depth=7, min_child_weight=1;, score=-37.819 total time=  51.7s\n",
      "[CV 4/5] END .max_depth=7, min_child_weight=1;, score=-38.461 total time=  52.4s\n",
      "[CV 5/5] END .max_depth=7, min_child_weight=1;, score=-38.056 total time=  51.9s\n",
      "[CV 1/5] END .max_depth=7, min_child_weight=3;, score=-37.899 total time=  50.4s\n",
      "[CV 2/5] END .max_depth=7, min_child_weight=3;, score=-37.918 total time=  50.7s\n",
      "[CV 3/5] END .max_depth=7, min_child_weight=3;, score=-37.800 total time=  50.5s\n",
      "[CV 4/5] END .max_depth=7, min_child_weight=3;, score=-38.433 total time=  51.0s\n",
      "[CV 5/5] END .max_depth=7, min_child_weight=3;, score=-38.174 total time=  50.0s\n",
      "[CV 1/5] END .max_depth=7, min_child_weight=5;, score=-37.726 total time=  49.1s\n",
      "[CV 2/5] END .max_depth=7, min_child_weight=5;, score=-37.834 total time=  49.0s\n",
      "[CV 3/5] END .max_depth=7, min_child_weight=5;, score=-37.789 total time=  49.5s\n",
      "[CV 4/5] END .max_depth=7, min_child_weight=5;, score=-38.471 total time=  49.3s\n",
      "[CV 5/5] END .max_depth=7, min_child_weight=5;, score=-38.091 total time=  49.0s\n",
      "[CV 1/5] END .max_depth=9, min_child_weight=1;, score=-38.122 total time= 2.4min\n",
      "[CV 2/5] END .max_depth=9, min_child_weight=1;, score=-38.121 total time= 2.4min\n",
      "[CV 3/5] END .max_depth=9, min_child_weight=1;, score=-38.307 total time= 2.4min\n",
      "[CV 4/5] END .max_depth=9, min_child_weight=1;, score=-38.732 total time= 2.4min\n",
      "[CV 5/5] END .max_depth=9, min_child_weight=1;, score=-38.404 total time= 2.4min\n",
      "[CV 1/5] END .max_depth=9, min_child_weight=3;, score=-38.130 total time= 2.2min\n",
      "[CV 2/5] END .max_depth=9, min_child_weight=3;, score=-38.304 total time= 2.3min\n",
      "[CV 3/5] END .max_depth=9, min_child_weight=3;, score=-38.381 total time= 2.2min\n",
      "[CV 4/5] END .max_depth=9, min_child_weight=3;, score=-38.756 total time= 2.2min\n",
      "[CV 5/5] END .max_depth=9, min_child_weight=3;, score=-38.218 total time= 2.2min\n",
      "[CV 1/5] END .max_depth=9, min_child_weight=5;, score=-38.252 total time= 2.1min\n",
      "[CV 2/5] END .max_depth=9, min_child_weight=5;, score=-38.135 total time= 2.1min\n",
      "[CV 3/5] END .max_depth=9, min_child_weight=5;, score=-38.321 total time= 2.3min\n",
      "[CV 4/5] END .max_depth=9, min_child_weight=5;, score=-38.726 total time= 2.1min\n",
      "[CV 5/5] END .max_depth=9, min_child_weight=5;, score=-38.288 total time= 2.1min\n"
     ]
    },
    {
     "ename": "AttributeError",
     "evalue": "'GridSearchCV' object has no attribute 'grid_scores_'",
     "output_type": "error",
     "traceback": [
      "\u001b[1;31m---------------------------------------------------------------------------\u001b[0m",
      "\u001b[1;31mAttributeError\u001b[0m                            Traceback (most recent call last)",
      "\u001b[1;32m<ipython-input-27-c58ed36974f4>\u001b[0m in \u001b[0;36m<module>\u001b[1;34m\u001b[0m\n\u001b[0;32m     10\u001b[0m \u001b[1;33m\u001b[0m\u001b[0m\n\u001b[0;32m     11\u001b[0m \u001b[0mgsearch1\u001b[0m\u001b[1;33m.\u001b[0m\u001b[0mfit\u001b[0m\u001b[1;33m(\u001b[0m\u001b[0mx_dev_st\u001b[0m\u001b[1;33m,\u001b[0m\u001b[0my_dev\u001b[0m\u001b[1;33m)\u001b[0m\u001b[1;33m\u001b[0m\u001b[1;33m\u001b[0m\u001b[0m\n\u001b[1;32m---> 12\u001b[1;33m \u001b[0mgsearch1\u001b[0m\u001b[1;33m.\u001b[0m\u001b[0mgrid_scores_\u001b[0m\u001b[1;33m,\u001b[0m \u001b[0mgsearch1\u001b[0m\u001b[1;33m.\u001b[0m\u001b[0mbest_params_\u001b[0m\u001b[1;33m,\u001b[0m \u001b[0mgsearch1\u001b[0m\u001b[1;33m.\u001b[0m\u001b[0mbest_score_\u001b[0m\u001b[1;33m\u001b[0m\u001b[1;33m\u001b[0m\u001b[0m\n\u001b[0m",
      "\u001b[1;31mAttributeError\u001b[0m: 'GridSearchCV' object has no attribute 'grid_scores_'"
     ]
    }
   ],
   "source": [
    "param_set1 = {\n",
    "    'max_depth':range(3,10,2),\n",
    "    'min_child_weight':range(1,6,2)}\n",
    "\n",
    "gsearch1 = model_selection.GridSearchCV(estimator = XGBRegressor(tree_method='gpu_hist',predictor='gpu_predictor'\n",
    "                                                                 ,random_state=42), \n",
    "                                        param_grid = param_set1, \n",
    "                                        scoring='neg_mean_absolute_error',cv=5, verbose=5)\n",
    "\n",
    "gsearch1.fit(x_dev_st,y_dev)\n",
    "gsearch1.best_params_, gsearch1.best_score_"
   ]
  },
  {
   "cell_type": "code",
   "execution_count": 28,
   "id": "455bf6de",
   "metadata": {},
   "outputs": [
    {
     "data": {
      "text/plain": [
       "({'max_depth': 7, 'min_child_weight': 5}, -37.982200633362616)"
      ]
     },
     "execution_count": 28,
     "metadata": {},
     "output_type": "execute_result"
    }
   ],
   "source": [
    "gsearch1.best_params_, gsearch1.best_score_"
   ]
  },
  {
   "cell_type": "code",
   "execution_count": 31,
   "id": "ac0cea5e",
   "metadata": {},
   "outputs": [
    {
     "name": "stdout",
     "output_type": "stream",
     "text": [
      "Fitting 5 folds for each of 20 candidates, totalling 100 fits\n",
      "[CV 1/5] END .......................gamma=0.0;, score=-37.726 total time=   5.0s\n",
      "[CV 2/5] END .......................gamma=0.0;, score=-37.834 total time=  19.6s\n",
      "[CV 3/5] END .......................gamma=0.0;, score=-37.789 total time=  14.6s\n",
      "[CV 4/5] END .......................gamma=0.0;, score=-38.471 total time=  14.5s\n",
      "[CV 5/5] END .......................gamma=0.0;, score=-38.091 total time=  14.4s\n",
      "[CV 1/5] END .......................gamma=0.1;, score=-37.726 total time=  14.2s\n",
      "[CV 2/5] END .......................gamma=0.1;, score=-37.834 total time=  14.4s\n",
      "[CV 3/5] END .......................gamma=0.1;, score=-37.789 total time=  14.6s\n",
      "[CV 4/5] END .......................gamma=0.1;, score=-38.471 total time=  14.6s\n",
      "[CV 5/5] END .......................gamma=0.1;, score=-38.091 total time=  14.5s\n",
      "[CV 1/5] END .......................gamma=0.2;, score=-37.726 total time=  14.4s\n",
      "[CV 2/5] END .......................gamma=0.2;, score=-37.834 total time=  14.3s\n",
      "[CV 3/5] END .......................gamma=0.2;, score=-37.789 total time=  14.4s\n",
      "[CV 4/5] END .......................gamma=0.2;, score=-38.471 total time=  14.4s\n",
      "[CV 5/5] END .......................gamma=0.2;, score=-38.091 total time=  14.5s\n",
      "[CV 1/5] END .......................gamma=0.3;, score=-37.726 total time=  14.5s\n",
      "[CV 2/5] END .......................gamma=0.3;, score=-37.834 total time=  14.2s\n",
      "[CV 3/5] END .......................gamma=0.3;, score=-37.789 total time=  14.6s\n",
      "[CV 4/5] END .......................gamma=0.3;, score=-38.471 total time=  14.4s\n",
      "[CV 5/5] END .......................gamma=0.3;, score=-38.091 total time=  14.5s\n",
      "[CV 1/5] END .......................gamma=0.4;, score=-37.726 total time=  14.5s\n",
      "[CV 2/5] END .......................gamma=0.4;, score=-37.834 total time=  14.4s\n",
      "[CV 3/5] END .......................gamma=0.4;, score=-37.789 total time=  14.4s\n",
      "[CV 4/5] END .......................gamma=0.4;, score=-38.471 total time=  14.5s\n",
      "[CV 5/5] END .......................gamma=0.4;, score=-38.091 total time=  14.4s\n",
      "[CV 1/5] END .......................gamma=0.5;, score=-37.726 total time=  14.3s\n",
      "[CV 2/5] END .......................gamma=0.5;, score=-37.834 total time=  14.3s\n",
      "[CV 3/5] END .......................gamma=0.5;, score=-37.789 total time=  14.4s\n",
      "[CV 4/5] END .......................gamma=0.5;, score=-38.471 total time=  10.9s\n",
      "[CV 5/5] END .......................gamma=0.5;, score=-38.091 total time=   4.4s\n",
      "[CV 1/5] END .......................gamma=0.6;, score=-37.726 total time=   4.3s\n",
      "[CV 2/5] END .......................gamma=0.6;, score=-37.834 total time=   4.3s\n",
      "[CV 3/5] END .......................gamma=0.6;, score=-37.789 total time=   4.5s\n",
      "[CV 4/5] END .......................gamma=0.6;, score=-38.471 total time=   4.4s\n",
      "[CV 5/5] END .......................gamma=0.6;, score=-38.091 total time=   4.3s\n",
      "[CV 1/5] END .......................gamma=0.7;, score=-37.726 total time=   4.4s\n",
      "[CV 2/5] END .......................gamma=0.7;, score=-37.834 total time=   4.2s\n",
      "[CV 3/5] END .......................gamma=0.7;, score=-37.789 total time=   4.2s\n",
      "[CV 4/5] END .......................gamma=0.7;, score=-38.471 total time=   4.3s\n",
      "[CV 5/5] END .......................gamma=0.7;, score=-38.091 total time=   4.3s\n",
      "[CV 1/5] END .......................gamma=0.8;, score=-37.726 total time=   4.4s\n",
      "[CV 2/5] END .......................gamma=0.8;, score=-37.834 total time=   4.3s\n",
      "[CV 3/5] END .......................gamma=0.8;, score=-37.789 total time=   4.3s\n",
      "[CV 4/5] END .......................gamma=0.8;, score=-38.471 total time=   4.5s\n",
      "[CV 5/5] END .......................gamma=0.8;, score=-38.091 total time=   4.3s\n",
      "[CV 1/5] END .......................gamma=0.9;, score=-37.726 total time=   4.4s\n",
      "[CV 2/5] END .......................gamma=0.9;, score=-37.834 total time=   4.4s\n",
      "[CV 3/5] END .......................gamma=0.9;, score=-37.789 total time=   4.5s\n",
      "[CV 4/5] END .......................gamma=0.9;, score=-38.471 total time=   4.3s\n",
      "[CV 5/5] END .......................gamma=0.9;, score=-38.091 total time=   4.3s\n",
      "[CV 1/5] END .......................gamma=1.0;, score=-37.726 total time=   4.3s\n",
      "[CV 2/5] END .......................gamma=1.0;, score=-37.834 total time=   4.4s\n",
      "[CV 3/5] END .......................gamma=1.0;, score=-37.789 total time=   4.5s\n",
      "[CV 4/5] END .......................gamma=1.0;, score=-38.471 total time=   4.4s\n",
      "[CV 5/5] END .......................gamma=1.0;, score=-38.091 total time=   4.3s\n",
      "[CV 1/5] END .......................gamma=1.1;, score=-37.726 total time=   4.4s\n",
      "[CV 2/5] END .......................gamma=1.1;, score=-37.834 total time=   4.3s\n",
      "[CV 3/5] END .......................gamma=1.1;, score=-37.789 total time=   4.4s\n",
      "[CV 4/5] END .......................gamma=1.1;, score=-38.471 total time=   4.3s\n",
      "[CV 5/5] END .......................gamma=1.1;, score=-38.091 total time=   4.2s\n",
      "[CV 1/5] END .......................gamma=1.2;, score=-37.726 total time=   4.4s\n",
      "[CV 2/5] END .......................gamma=1.2;, score=-37.834 total time=   4.2s\n",
      "[CV 3/5] END .......................gamma=1.2;, score=-37.789 total time=   4.2s\n",
      "[CV 4/5] END .......................gamma=1.2;, score=-38.471 total time=   4.3s\n",
      "[CV 5/5] END .......................gamma=1.2;, score=-38.091 total time=   4.2s\n",
      "[CV 1/5] END .......................gamma=1.3;, score=-37.726 total time=   4.3s\n",
      "[CV 2/5] END .......................gamma=1.3;, score=-37.834 total time=   4.2s\n",
      "[CV 3/5] END .......................gamma=1.3;, score=-37.789 total time=   4.3s\n",
      "[CV 4/5] END .......................gamma=1.3;, score=-38.471 total time=   4.2s\n",
      "[CV 5/5] END .......................gamma=1.3;, score=-38.091 total time=   4.5s\n",
      "[CV 1/5] END .......................gamma=1.4;, score=-37.726 total time=   4.4s\n",
      "[CV 2/5] END .......................gamma=1.4;, score=-37.834 total time=   4.3s\n",
      "[CV 3/5] END .......................gamma=1.4;, score=-37.789 total time=   4.3s\n",
      "[CV 4/5] END .......................gamma=1.4;, score=-38.471 total time=   4.5s\n",
      "[CV 5/5] END .......................gamma=1.4;, score=-38.091 total time=   4.4s\n",
      "[CV 1/5] END .......................gamma=1.5;, score=-37.726 total time=   4.3s\n",
      "[CV 2/5] END .......................gamma=1.5;, score=-37.834 total time=   4.2s\n",
      "[CV 3/5] END .......................gamma=1.5;, score=-37.789 total time=   4.4s\n",
      "[CV 4/5] END .......................gamma=1.5;, score=-38.471 total time=   4.4s\n",
      "[CV 5/5] END .......................gamma=1.5;, score=-38.091 total time=   4.3s\n",
      "[CV 1/5] END .......................gamma=1.6;, score=-37.726 total time=   4.3s\n",
      "[CV 2/5] END .......................gamma=1.6;, score=-37.834 total time=   4.2s\n",
      "[CV 3/5] END .......................gamma=1.6;, score=-37.789 total time=   4.3s\n",
      "[CV 4/5] END .......................gamma=1.6;, score=-38.471 total time=   4.2s\n",
      "[CV 5/5] END .......................gamma=1.6;, score=-38.091 total time=   4.2s\n",
      "[CV 1/5] END .......................gamma=1.7;, score=-37.726 total time=   4.2s\n",
      "[CV 2/5] END .......................gamma=1.7;, score=-37.834 total time=   4.3s\n",
      "[CV 3/5] END .......................gamma=1.7;, score=-37.789 total time=   4.3s\n",
      "[CV 4/5] END .......................gamma=1.7;, score=-38.471 total time=   4.3s\n",
      "[CV 5/5] END .......................gamma=1.7;, score=-38.091 total time=   4.4s\n",
      "[CV 1/5] END .......................gamma=1.8;, score=-37.726 total time=   4.3s\n",
      "[CV 2/5] END .......................gamma=1.8;, score=-37.834 total time=   4.2s\n",
      "[CV 3/5] END .......................gamma=1.8;, score=-37.789 total time=   4.3s\n",
      "[CV 4/5] END .......................gamma=1.8;, score=-38.471 total time=   4.4s\n",
      "[CV 5/5] END .......................gamma=1.8;, score=-38.091 total time=   4.3s\n",
      "[CV 1/5] END .......................gamma=1.9;, score=-37.726 total time=   4.3s\n",
      "[CV 2/5] END .......................gamma=1.9;, score=-37.834 total time=   4.4s\n",
      "[CV 3/5] END .......................gamma=1.9;, score=-37.789 total time=   4.4s\n",
      "[CV 4/5] END .......................gamma=1.9;, score=-38.471 total time=   4.3s\n",
      "[CV 5/5] END .......................gamma=1.9;, score=-38.091 total time=   4.3s\n"
     ]
    },
    {
     "data": {
      "text/plain": [
       "({'gamma': 1.0}, -37.98219294903013)"
      ]
     },
     "execution_count": 31,
     "metadata": {},
     "output_type": "execute_result"
    }
   ],
   "source": [
    "max_depth = gsearch1.best_params_['max_depth']\n",
    "min_child_weight = gsearch1.best_params_['min_child_weight']\n",
    "\n",
    "param_set2 = {'gamma':[i/10.0 for i in range(0,20)]}\n",
    "\n",
    "gsearch2 = model_selection.GridSearchCV(estimator = XGBRegressor(tree_method='gpu_hist',predictor='gpu_predictor',\n",
    "                                                                 max_depth=max_depth,\n",
    "                                                                 min_child_weight=min_child_weight,random_state=42,n_jobs=-1), \n",
    "                                        param_grid = param_set2, \n",
    "                                        scoring='neg_mean_absolute_error',cv=5, verbose=5)\n",
    "\n",
    "gsearch2.fit(x_dev_st,y_dev)\n",
    "gsearch2.best_params_, gsearch2.best_score_"
   ]
  },
  {
   "cell_type": "code",
   "execution_count": 42,
   "id": "a074cdff",
   "metadata": {},
   "outputs": [
    {
     "name": "stdout",
     "output_type": "stream",
     "text": [
      "Fitting 5 folds for each of 24 candidates, totalling 120 fits\n",
      "[CV 1/5] END colsample_bytree=0.1, subsample=0.9;, score=-40.188 total time=   9.3s\n",
      "[CV 2/5] END colsample_bytree=0.1, subsample=0.9;, score=-40.255 total time=   9.0s\n",
      "[CV 3/5] END colsample_bytree=0.1, subsample=0.9;, score=-40.318 total time=   9.0s\n",
      "[CV 4/5] END colsample_bytree=0.1, subsample=0.9;, score=-40.855 total time=   9.2s\n",
      "[CV 5/5] END colsample_bytree=0.1, subsample=0.9;, score=-40.579 total time=   8.8s\n",
      "[CV 1/5] END colsample_bytree=0.1, subsample=0.9199999999999999;, score=-40.143 total time=   8.9s\n",
      "[CV 2/5] END colsample_bytree=0.1, subsample=0.9199999999999999;, score=-40.219 total time=   9.0s\n",
      "[CV 3/5] END colsample_bytree=0.1, subsample=0.9199999999999999;, score=-40.184 total time=   9.4s\n",
      "[CV 4/5] END colsample_bytree=0.1, subsample=0.9199999999999999;, score=-40.836 total time=   8.9s\n",
      "[CV 5/5] END colsample_bytree=0.1, subsample=0.9199999999999999;, score=-40.550 total time=   9.1s\n",
      "[CV 1/5] END colsample_bytree=0.1, subsample=0.9400000000000001;, score=-40.174 total time=   9.0s\n",
      "[CV 2/5] END colsample_bytree=0.1, subsample=0.9400000000000001;, score=-40.235 total time=   8.9s\n",
      "[CV 3/5] END colsample_bytree=0.1, subsample=0.9400000000000001;, score=-40.205 total time=   9.1s\n",
      "[CV 4/5] END colsample_bytree=0.1, subsample=0.9400000000000001;, score=-40.804 total time=   9.1s\n",
      "[CV 5/5] END colsample_bytree=0.1, subsample=0.9400000000000001;, score=-40.423 total time=   9.1s\n",
      "[CV 1/5] END colsample_bytree=0.1, subsample=0.96;, score=-40.120 total time=   9.3s\n",
      "[CV 2/5] END colsample_bytree=0.1, subsample=0.96;, score=-40.185 total time=   9.1s\n",
      "[CV 3/5] END colsample_bytree=0.1, subsample=0.96;, score=-40.212 total time=   9.1s\n",
      "[CV 4/5] END colsample_bytree=0.1, subsample=0.96;, score=-40.699 total time=   9.2s\n",
      "[CV 5/5] END colsample_bytree=0.1, subsample=0.96;, score=-40.433 total time=   9.1s\n",
      "[CV 1/5] END colsample_bytree=0.2, subsample=0.9;, score=-39.123 total time=   9.6s\n",
      "[CV 2/5] END colsample_bytree=0.2, subsample=0.9;, score=-38.994 total time=   9.7s\n",
      "[CV 3/5] END colsample_bytree=0.2, subsample=0.9;, score=-39.381 total time=   9.6s\n",
      "[CV 4/5] END colsample_bytree=0.2, subsample=0.9;, score=-39.712 total time=   9.7s\n",
      "[CV 5/5] END colsample_bytree=0.2, subsample=0.9;, score=-39.383 total time=   9.8s\n",
      "[CV 1/5] END colsample_bytree=0.2, subsample=0.9199999999999999;, score=-38.970 total time=   9.6s\n",
      "[CV 2/5] END colsample_bytree=0.2, subsample=0.9199999999999999;, score=-39.166 total time=   9.6s\n",
      "[CV 3/5] END colsample_bytree=0.2, subsample=0.9199999999999999;, score=-39.325 total time=   9.8s\n",
      "[CV 4/5] END colsample_bytree=0.2, subsample=0.9199999999999999;, score=-39.723 total time=   9.8s\n",
      "[CV 5/5] END colsample_bytree=0.2, subsample=0.9199999999999999;, score=-39.399 total time=  10.0s\n",
      "[CV 1/5] END colsample_bytree=0.2, subsample=0.9400000000000001;, score=-39.055 total time=   9.6s\n",
      "[CV 2/5] END colsample_bytree=0.2, subsample=0.9400000000000001;, score=-39.015 total time=   9.8s\n",
      "[CV 3/5] END colsample_bytree=0.2, subsample=0.9400000000000001;, score=-39.323 total time=   9.7s\n",
      "[CV 4/5] END colsample_bytree=0.2, subsample=0.9400000000000001;, score=-39.692 total time=   9.8s\n",
      "[CV 5/5] END colsample_bytree=0.2, subsample=0.9400000000000001;, score=-39.334 total time=   9.6s\n",
      "[CV 1/5] END colsample_bytree=0.2, subsample=0.96;, score=-39.122 total time=  16.3s\n",
      "[CV 2/5] END colsample_bytree=0.2, subsample=0.96;, score=-38.994 total time=   9.6s\n",
      "[CV 3/5] END colsample_bytree=0.2, subsample=0.96;, score=-39.309 total time=  17.4s\n",
      "[CV 4/5] END colsample_bytree=0.2, subsample=0.96;, score=-39.702 total time=   9.7s\n",
      "[CV 5/5] END colsample_bytree=0.2, subsample=0.96;, score=-39.262 total time=   9.9s\n",
      "[CV 1/5] END colsample_bytree=0.3, subsample=0.9;, score=-38.528 total time=  10.0s\n",
      "[CV 2/5] END colsample_bytree=0.3, subsample=0.9;, score=-38.566 total time=  10.4s\n",
      "[CV 3/5] END colsample_bytree=0.3, subsample=0.9;, score=-38.350 total time=   9.9s\n",
      "[CV 4/5] END colsample_bytree=0.3, subsample=0.9;, score=-39.135 total time=   9.9s\n",
      "[CV 5/5] END colsample_bytree=0.3, subsample=0.9;, score=-38.669 total time=  10.0s\n",
      "[CV 1/5] END colsample_bytree=0.3, subsample=0.9199999999999999;, score=-38.349 total time=  10.0s\n",
      "[CV 2/5] END colsample_bytree=0.3, subsample=0.9199999999999999;, score=-38.448 total time=  10.0s\n",
      "[CV 3/5] END colsample_bytree=0.3, subsample=0.9199999999999999;, score=-38.552 total time=  10.0s\n",
      "[CV 4/5] END colsample_bytree=0.3, subsample=0.9199999999999999;, score=-39.208 total time=  10.2s\n",
      "[CV 5/5] END colsample_bytree=0.3, subsample=0.9199999999999999;, score=-38.705 total time=  10.5s\n",
      "[CV 1/5] END colsample_bytree=0.3, subsample=0.9400000000000001;, score=-38.413 total time=  10.2s\n",
      "[CV 2/5] END colsample_bytree=0.3, subsample=0.9400000000000001;, score=-38.430 total time=  10.0s\n",
      "[CV 3/5] END colsample_bytree=0.3, subsample=0.9400000000000001;, score=-38.407 total time=  10.1s\n",
      "[CV 4/5] END colsample_bytree=0.3, subsample=0.9400000000000001;, score=-39.227 total time=  10.2s\n",
      "[CV 5/5] END colsample_bytree=0.3, subsample=0.9400000000000001;, score=-38.504 total time=  10.2s\n",
      "[CV 1/5] END colsample_bytree=0.3, subsample=0.96;, score=-38.395 total time=  10.1s\n",
      "[CV 2/5] END colsample_bytree=0.3, subsample=0.96;, score=-38.547 total time=  10.0s\n",
      "[CV 3/5] END colsample_bytree=0.3, subsample=0.96;, score=-38.401 total time=  10.1s\n",
      "[CV 4/5] END colsample_bytree=0.3, subsample=0.96;, score=-39.021 total time=  10.3s\n",
      "[CV 5/5] END colsample_bytree=0.3, subsample=0.96;, score=-38.503 total time=  10.1s\n",
      "[CV 1/5] END colsample_bytree=0.4, subsample=0.9;, score=-38.390 total time=  10.5s\n",
      "[CV 2/5] END colsample_bytree=0.4, subsample=0.9;, score=-38.347 total time=  10.8s\n",
      "[CV 3/5] END colsample_bytree=0.4, subsample=0.9;, score=-38.278 total time=  11.0s\n",
      "[CV 4/5] END colsample_bytree=0.4, subsample=0.9;, score=-38.829 total time=  10.7s\n",
      "[CV 5/5] END colsample_bytree=0.4, subsample=0.9;, score=-38.491 total time=  10.8s\n",
      "[CV 1/5] END colsample_bytree=0.4, subsample=0.9199999999999999;, score=-38.348 total time=  10.6s\n",
      "[CV 2/5] END colsample_bytree=0.4, subsample=0.9199999999999999;, score=-38.269 total time=  10.8s\n",
      "[CV 3/5] END colsample_bytree=0.4, subsample=0.9199999999999999;, score=-38.382 total time=  10.4s\n",
      "[CV 4/5] END colsample_bytree=0.4, subsample=0.9199999999999999;, score=-38.785 total time=  10.8s\n",
      "[CV 5/5] END colsample_bytree=0.4, subsample=0.9199999999999999;, score=-38.409 total time=  10.7s\n",
      "[CV 1/5] END colsample_bytree=0.4, subsample=0.9400000000000001;, score=-38.232 total time=  10.7s\n",
      "[CV 2/5] END colsample_bytree=0.4, subsample=0.9400000000000001;, score=-38.298 total time=  10.7s\n",
      "[CV 3/5] END colsample_bytree=0.4, subsample=0.9400000000000001;, score=-38.434 total time=  10.8s\n",
      "[CV 4/5] END colsample_bytree=0.4, subsample=0.9400000000000001;, score=-38.556 total time=  10.7s\n",
      "[CV 5/5] END colsample_bytree=0.4, subsample=0.9400000000000001;, score=-38.397 total time=  10.5s\n",
      "[CV 1/5] END colsample_bytree=0.4, subsample=0.96;, score=-38.229 total time=  10.7s\n",
      "[CV 2/5] END colsample_bytree=0.4, subsample=0.96;, score=-38.307 total time=  10.6s\n",
      "[CV 3/5] END colsample_bytree=0.4, subsample=0.96;, score=-38.280 total time=  10.7s\n",
      "[CV 4/5] END colsample_bytree=0.4, subsample=0.96;, score=-38.668 total time=  10.7s\n",
      "[CV 5/5] END colsample_bytree=0.4, subsample=0.96;, score=-38.365 total time=  10.5s\n",
      "[CV 1/5] END colsample_bytree=0.5, subsample=0.9;, score=-38.236 total time=  11.4s\n",
      "[CV 2/5] END colsample_bytree=0.5, subsample=0.9;, score=-38.131 total time=  11.8s\n",
      "[CV 3/5] END colsample_bytree=0.5, subsample=0.9;, score=-38.298 total time=  11.1s\n",
      "[CV 4/5] END colsample_bytree=0.5, subsample=0.9;, score=-38.976 total time=  11.4s\n",
      "[CV 5/5] END colsample_bytree=0.5, subsample=0.9;, score=-38.496 total time=  11.1s\n",
      "[CV 1/5] END colsample_bytree=0.5, subsample=0.9199999999999999;, score=-38.199 total time=  11.4s\n",
      "[CV 2/5] END colsample_bytree=0.5, subsample=0.9199999999999999;, score=-38.150 total time=  11.3s\n",
      "[CV 3/5] END colsample_bytree=0.5, subsample=0.9199999999999999;, score=-38.252 total time=  11.5s\n",
      "[CV 4/5] END colsample_bytree=0.5, subsample=0.9199999999999999;, score=-38.784 total time=  11.4s\n"
     ]
    },
    {
     "name": "stdout",
     "output_type": "stream",
     "text": [
      "[CV 5/5] END colsample_bytree=0.5, subsample=0.9199999999999999;, score=-38.538 total time=  11.3s\n",
      "[CV 1/5] END colsample_bytree=0.5, subsample=0.9400000000000001;, score=-38.113 total time=  11.5s\n",
      "[CV 2/5] END colsample_bytree=0.5, subsample=0.9400000000000001;, score=-37.907 total time=  11.6s\n",
      "[CV 3/5] END colsample_bytree=0.5, subsample=0.9400000000000001;, score=-38.074 total time=  11.7s\n",
      "[CV 4/5] END colsample_bytree=0.5, subsample=0.9400000000000001;, score=-38.852 total time=  11.3s\n",
      "[CV 5/5] END colsample_bytree=0.5, subsample=0.9400000000000001;, score=-38.399 total time=  11.2s\n",
      "[CV 1/5] END colsample_bytree=0.5, subsample=0.96;, score=-38.068 total time=  11.5s\n",
      "[CV 2/5] END colsample_bytree=0.5, subsample=0.96;, score=-38.020 total time=  11.2s\n",
      "[CV 3/5] END colsample_bytree=0.5, subsample=0.96;, score=-38.093 total time=  11.2s\n",
      "[CV 4/5] END colsample_bytree=0.5, subsample=0.96;, score=-38.732 total time=  11.5s\n",
      "[CV 5/5] END colsample_bytree=0.5, subsample=0.96;, score=-38.244 total time=  11.4s\n",
      "[CV 1/5] END colsample_bytree=0.6, subsample=0.9;, score=-37.988 total time=  11.7s\n",
      "[CV 2/5] END colsample_bytree=0.6, subsample=0.9;, score=-37.830 total time=  11.6s\n",
      "[CV 3/5] END colsample_bytree=0.6, subsample=0.9;, score=-37.933 total time=  11.9s\n",
      "[CV 4/5] END colsample_bytree=0.6, subsample=0.9;, score=-38.624 total time=  11.8s\n",
      "[CV 5/5] END colsample_bytree=0.6, subsample=0.9;, score=-38.173 total time=  11.6s\n",
      "[CV 1/5] END colsample_bytree=0.6, subsample=0.9199999999999999;, score=-37.977 total time=  11.7s\n",
      "[CV 2/5] END colsample_bytree=0.6, subsample=0.9199999999999999;, score=-38.026 total time=  11.8s\n",
      "[CV 3/5] END colsample_bytree=0.6, subsample=0.9199999999999999;, score=-38.028 total time=  11.9s\n",
      "[CV 4/5] END colsample_bytree=0.6, subsample=0.9199999999999999;, score=-38.665 total time=  11.8s\n",
      "[CV 5/5] END colsample_bytree=0.6, subsample=0.9199999999999999;, score=-38.071 total time=  11.6s\n",
      "[CV 1/5] END colsample_bytree=0.6, subsample=0.9400000000000001;, score=-38.068 total time=  11.9s\n",
      "[CV 2/5] END colsample_bytree=0.6, subsample=0.9400000000000001;, score=-37.961 total time=  11.7s\n",
      "[CV 3/5] END colsample_bytree=0.6, subsample=0.9400000000000001;, score=-37.761 total time=  11.7s\n",
      "[CV 4/5] END colsample_bytree=0.6, subsample=0.9400000000000001;, score=-38.632 total time=  11.6s\n",
      "[CV 5/5] END colsample_bytree=0.6, subsample=0.9400000000000001;, score=-38.126 total time=  11.8s\n",
      "[CV 1/5] END colsample_bytree=0.6, subsample=0.96;, score=-38.013 total time=  11.6s\n",
      "[CV 2/5] END colsample_bytree=0.6, subsample=0.96;, score=-37.718 total time=  12.0s\n",
      "[CV 3/5] END colsample_bytree=0.6, subsample=0.96;, score=-37.869 total time=  12.0s\n",
      "[CV 4/5] END colsample_bytree=0.6, subsample=0.96;, score=-38.666 total time=  11.9s\n",
      "[CV 5/5] END colsample_bytree=0.6, subsample=0.96;, score=-38.254 total time=  11.8s\n"
     ]
    },
    {
     "data": {
      "text/plain": [
       "({'colsample_bytree': 0.6, 'subsample': 0.96}, -38.10391001089282)"
      ]
     },
     "execution_count": 42,
     "metadata": {},
     "output_type": "execute_result"
    }
   ],
   "source": [
    "gamma = gsearch2.best_params_['gamma']\n",
    "\n",
    "param_set3 = {\n",
    "    'subsample':[i/10.0 for i in [9,9.2,9.4,9.6]],\n",
    "    'colsample_bytree':[i/10.0 for i in range(1,7)]\n",
    "}\n",
    "\n",
    "#param_set3 = {\n",
    "#    'subsample':[i/10.0 for i in range(6,10)],\n",
    "#    'colsample_bytree':[i/10.0 for i in range(6,10)]\n",
    "#}\n",
    "\n",
    "gsearch3 = model_selection.GridSearchCV(estimator = XGBRegressor(tree_method='gpu_hist',predictor='gpu_predictor',\n",
    "                                                                 max_depth=max_depth,gamma=gamma,\n",
    "                                                                 min_child_weight=min_child_weight,random_state=42,n_jobs=-1), \n",
    "                                        param_grid = param_set3, \n",
    "                                        scoring='neg_mean_absolute_error',cv=5, verbose=5)\n",
    "\n",
    "gsearch3.fit(x_dev_st,y_dev)\n",
    "gsearch3.best_params_, gsearch3.best_score_"
   ]
  },
  {
   "cell_type": "code",
   "execution_count": 34,
   "id": "4100693e",
   "metadata": {},
   "outputs": [
    {
     "data": {
      "text/plain": [
       "({'colsample_bytree': 0.6, 'subsample': 0.9}, -38.10948656859024)"
      ]
     },
     "execution_count": 34,
     "metadata": {},
     "output_type": "execute_result"
    }
   ],
   "source": [
    "gsearch3.best_params_, gsearch3.best_score_"
   ]
  },
  {
   "cell_type": "code",
   "execution_count": 43,
   "id": "e100bd1b",
   "metadata": {},
   "outputs": [
    {
     "name": "stdout",
     "output_type": "stream",
     "text": [
      "Fitting 5 folds for each of 10 candidates, totalling 50 fits\n",
      "[CV 1/5] END .....................reg_alpha=0;, score=-38.013 total time=  11.5s\n",
      "[CV 2/5] END .....................reg_alpha=0;, score=-37.718 total time=  11.9s\n",
      "[CV 3/5] END .....................reg_alpha=0;, score=-37.869 total time=  11.9s\n",
      "[CV 4/5] END .....................reg_alpha=0;, score=-38.666 total time=  11.9s\n",
      "[CV 5/5] END .....................reg_alpha=0;, score=-38.254 total time=  11.9s\n",
      "[CV 1/5] END .................reg_alpha=1e-05;, score=-38.013 total time=  11.5s\n",
      "[CV 2/5] END .................reg_alpha=1e-05;, score=-37.718 total time=  12.1s\n",
      "[CV 3/5] END .................reg_alpha=1e-05;, score=-37.869 total time=  11.9s\n",
      "[CV 4/5] END .................reg_alpha=1e-05;, score=-38.666 total time=  11.7s\n",
      "[CV 5/5] END .................reg_alpha=1e-05;, score=-38.254 total time=  11.7s\n",
      "[CV 1/5] END ................reg_alpha=0.0001;, score=-38.013 total time=  11.6s\n",
      "[CV 2/5] END ................reg_alpha=0.0001;, score=-37.718 total time=  12.0s\n",
      "[CV 3/5] END ................reg_alpha=0.0001;, score=-37.869 total time=  12.1s\n",
      "[CV 4/5] END ................reg_alpha=0.0001;, score=-38.666 total time=  12.0s\n",
      "[CV 5/5] END ................reg_alpha=0.0001;, score=-38.254 total time=  12.1s\n",
      "[CV 1/5] END .................reg_alpha=0.001;, score=-38.013 total time=  11.7s\n",
      "[CV 2/5] END .................reg_alpha=0.001;, score=-37.718 total time=  11.9s\n",
      "[CV 3/5] END .................reg_alpha=0.001;, score=-37.869 total time=  11.9s\n",
      "[CV 4/5] END .................reg_alpha=0.001;, score=-38.666 total time=  12.0s\n",
      "[CV 5/5] END .................reg_alpha=0.001;, score=-38.254 total time=  11.8s\n",
      "[CV 1/5] END ..................reg_alpha=0.01;, score=-38.013 total time=  11.6s\n",
      "[CV 2/5] END ..................reg_alpha=0.01;, score=-37.718 total time=  11.7s\n",
      "[CV 3/5] END ..................reg_alpha=0.01;, score=-37.869 total time=  11.7s\n",
      "[CV 4/5] END ..................reg_alpha=0.01;, score=-38.666 total time=  11.7s\n",
      "[CV 5/5] END ..................reg_alpha=0.01;, score=-38.254 total time=  11.7s\n",
      "[CV 1/5] END ...................reg_alpha=0.1;, score=-37.962 total time=  11.8s\n",
      "[CV 2/5] END ...................reg_alpha=0.1;, score=-37.629 total time=  11.8s\n",
      "[CV 3/5] END ...................reg_alpha=0.1;, score=-37.808 total time=  12.0s\n",
      "[CV 4/5] END ...................reg_alpha=0.1;, score=-38.587 total time=  11.9s\n",
      "[CV 5/5] END ...................reg_alpha=0.1;, score=-38.201 total time=  11.7s\n",
      "[CV 1/5] END .....................reg_alpha=1;, score=-37.862 total time=  11.9s\n",
      "[CV 2/5] END .....................reg_alpha=1;, score=-37.764 total time=  11.7s\n",
      "[CV 3/5] END .....................reg_alpha=1;, score=-37.984 total time=  11.6s\n",
      "[CV 4/5] END .....................reg_alpha=1;, score=-38.473 total time=  11.8s\n",
      "[CV 5/5] END .....................reg_alpha=1;, score=-38.183 total time=  11.7s\n",
      "[CV 1/5] END ....................reg_alpha=10;, score=-37.911 total time=  11.8s\n",
      "[CV 2/5] END ....................reg_alpha=10;, score=-37.950 total time=  11.8s\n",
      "[CV 3/5] END ....................reg_alpha=10;, score=-37.990 total time=  11.7s\n",
      "[CV 4/5] END ....................reg_alpha=10;, score=-38.514 total time=  11.9s\n",
      "[CV 5/5] END ....................reg_alpha=10;, score=-38.209 total time=  11.7s\n",
      "[CV 1/5] END ....................reg_alpha=50;, score=-37.782 total time=  11.9s\n",
      "[CV 2/5] END ....................reg_alpha=50;, score=-37.889 total time=  12.0s\n",
      "[CV 3/5] END ....................reg_alpha=50;, score=-37.836 total time=  11.9s\n",
      "[CV 4/5] END ....................reg_alpha=50;, score=-38.737 total time=  11.8s\n",
      "[CV 5/5] END ....................reg_alpha=50;, score=-38.014 total time=  11.7s\n",
      "[CV 1/5] END ...................reg_alpha=100;, score=-37.848 total time=  12.3s\n",
      "[CV 2/5] END ...................reg_alpha=100;, score=-37.898 total time=  12.4s\n",
      "[CV 3/5] END ...................reg_alpha=100;, score=-37.876 total time=  12.3s\n",
      "[CV 4/5] END ...................reg_alpha=100;, score=-38.462 total time=  12.2s\n",
      "[CV 5/5] END ...................reg_alpha=100;, score=-38.031 total time=  12.2s\n"
     ]
    },
    {
     "data": {
      "text/plain": [
       "({'reg_alpha': 100}, -38.02310000682625)"
      ]
     },
     "execution_count": 43,
     "metadata": {},
     "output_type": "execute_result"
    }
   ],
   "source": [
    "subsample = gsearch3.best_params_['subsample']\n",
    "colsample_bytree = gsearch3.best_params_['colsample_bytree']\n",
    "\n",
    "param_set4 = {\n",
    "    'reg_alpha':[0,1e-5,1e-4,1e-3, 1e-2, 0.1, 1,10,50, 100]\n",
    "}\n",
    "\n",
    "gsearch4 = model_selection.GridSearchCV(estimator = XGBRegressor(tree_method='gpu_hist',predictor='gpu_predictor',\n",
    "                                                                 max_depth=max_depth,gamma=gamma,\n",
    "                                                                 min_child_weight=min_child_weight,random_state=42,\n",
    "                                                                subsample=subsample,colsample_bytree=colsample_bytree,\n",
    "                                                                n_jobs=-1), \n",
    "                                        param_grid = param_set4, \n",
    "                                        scoring='neg_mean_absolute_error',cv=5, verbose=5)\n",
    "\n",
    "gsearch4.fit(x_dev_st,y_dev)\n",
    "gsearch4.best_params_, gsearch4.best_score_"
   ]
  },
  {
   "cell_type": "code",
   "execution_count": 49,
   "id": "fed83de1",
   "metadata": {},
   "outputs": [
    {
     "name": "stdout",
     "output_type": "stream",
     "text": [
      "Fitting 5 folds for each of 12 candidates, totalling 60 fits\n",
      "[CV 1/5] END learning_rate=0.08, n_estimators=400;, score=-36.495 total time=  44.6s\n",
      "[CV 2/5] END learning_rate=0.08, n_estimators=400;, score=-36.421 total time=  44.5s\n",
      "[CV 3/5] END learning_rate=0.08, n_estimators=400;, score=-36.583 total time=  44.4s\n",
      "[CV 4/5] END learning_rate=0.08, n_estimators=400;, score=-37.117 total time=  45.2s\n",
      "[CV 5/5] END learning_rate=0.08, n_estimators=400;, score=-36.750 total time=  44.9s\n",
      "[CV 1/5] END learning_rate=0.08, n_estimators=500;, score=-36.316 total time=  55.2s\n",
      "[CV 2/5] END learning_rate=0.08, n_estimators=500;, score=-36.301 total time=  54.4s\n",
      "[CV 3/5] END learning_rate=0.08, n_estimators=500;, score=-36.476 total time=  54.9s\n",
      "[CV 4/5] END learning_rate=0.08, n_estimators=500;, score=-37.020 total time=  55.8s\n",
      "[CV 5/5] END learning_rate=0.08, n_estimators=500;, score=-36.594 total time=  54.8s\n",
      "[CV 1/5] END learning_rate=0.08, n_estimators=600;, score=-36.218 total time= 1.1min\n",
      "[CV 2/5] END learning_rate=0.08, n_estimators=600;, score=-36.242 total time= 1.1min\n",
      "[CV 3/5] END learning_rate=0.08, n_estimators=600;, score=-36.403 total time= 1.1min\n",
      "[CV 4/5] END learning_rate=0.08, n_estimators=600;, score=-36.898 total time= 1.1min\n",
      "[CV 5/5] END learning_rate=0.08, n_estimators=600;, score=-36.508 total time= 1.1min\n",
      "[CV 1/5] END learning_rate=0.1, n_estimators=400;, score=-36.366 total time=  44.0s\n",
      "[CV 2/5] END learning_rate=0.1, n_estimators=400;, score=-36.474 total time=  44.3s\n",
      "[CV 3/5] END learning_rate=0.1, n_estimators=400;, score=-36.526 total time=  44.4s\n",
      "[CV 4/5] END learning_rate=0.1, n_estimators=400;, score=-37.054 total time=  44.8s\n",
      "[CV 5/5] END learning_rate=0.1, n_estimators=400;, score=-36.632 total time=  43.6s\n",
      "[CV 1/5] END learning_rate=0.1, n_estimators=500;, score=-36.258 total time=  54.9s\n",
      "[CV 2/5] END learning_rate=0.1, n_estimators=500;, score=-36.359 total time=  54.7s\n",
      "[CV 3/5] END learning_rate=0.1, n_estimators=500;, score=-36.483 total time=  54.8s\n",
      "[CV 4/5] END learning_rate=0.1, n_estimators=500;, score=-36.934 total time=  55.6s\n",
      "[CV 5/5] END learning_rate=0.1, n_estimators=500;, score=-36.533 total time=  54.7s\n",
      "[CV 1/5] END learning_rate=0.1, n_estimators=600;, score=-36.239 total time= 1.1min\n",
      "[CV 2/5] END learning_rate=0.1, n_estimators=600;, score=-36.307 total time= 1.1min\n",
      "[CV 3/5] END learning_rate=0.1, n_estimators=600;, score=-36.442 total time= 1.1min\n",
      "[CV 4/5] END learning_rate=0.1, n_estimators=600;, score=-36.884 total time= 1.1min\n",
      "[CV 5/5] END learning_rate=0.1, n_estimators=600;, score=-36.459 total time= 1.1min\n",
      "[CV 1/5] END learning_rate=0.12, n_estimators=400;, score=-36.458 total time=  44.0s\n",
      "[CV 2/5] END learning_rate=0.12, n_estimators=400;, score=-36.434 total time=  44.0s\n",
      "[CV 3/5] END learning_rate=0.12, n_estimators=400;, score=-36.538 total time=  43.9s\n",
      "[CV 4/5] END learning_rate=0.12, n_estimators=400;, score=-37.099 total time=  43.9s\n",
      "[CV 5/5] END learning_rate=0.12, n_estimators=400;, score=-36.615 total time=  45.1s\n",
      "[CV 1/5] END learning_rate=0.12, n_estimators=500;, score=-36.386 total time=  54.8s\n",
      "[CV 2/5] END learning_rate=0.12, n_estimators=500;, score=-36.388 total time=  54.8s\n",
      "[CV 3/5] END learning_rate=0.12, n_estimators=500;, score=-36.483 total time=  54.7s\n",
      "[CV 4/5] END learning_rate=0.12, n_estimators=500;, score=-37.014 total time=  54.2s\n",
      "[CV 5/5] END learning_rate=0.12, n_estimators=500;, score=-36.559 total time=  54.8s\n",
      "[CV 1/5] END learning_rate=0.12, n_estimators=600;, score=-36.383 total time= 1.1min\n",
      "[CV 2/5] END learning_rate=0.12, n_estimators=600;, score=-36.360 total time= 1.1min\n",
      "[CV 3/5] END learning_rate=0.12, n_estimators=600;, score=-36.450 total time= 1.1min\n",
      "[CV 4/5] END learning_rate=0.12, n_estimators=600;, score=-37.002 total time= 1.1min\n",
      "[CV 5/5] END learning_rate=0.12, n_estimators=600;, score=-36.491 total time= 1.1min\n",
      "[CV 1/5] END learning_rate=0.15, n_estimators=400;, score=-36.631 total time=  44.7s\n",
      "[CV 2/5] END learning_rate=0.15, n_estimators=400;, score=-36.648 total time=  43.7s\n",
      "[CV 3/5] END learning_rate=0.15, n_estimators=400;, score=-36.868 total time=  44.1s\n",
      "[CV 4/5] END learning_rate=0.15, n_estimators=400;, score=-37.329 total time=  30.7s\n",
      "[CV 5/5] END learning_rate=0.15, n_estimators=400;, score=-36.877 total time=  12.5s\n",
      "[CV 1/5] END learning_rate=0.15, n_estimators=500;, score=-36.607 total time=  15.5s\n",
      "[CV 2/5] END learning_rate=0.15, n_estimators=500;, score=-36.611 total time=  15.2s\n",
      "[CV 3/5] END learning_rate=0.15, n_estimators=500;, score=-36.882 total time=  15.5s\n",
      "[CV 4/5] END learning_rate=0.15, n_estimators=500;, score=-37.307 total time=  15.5s\n",
      "[CV 5/5] END learning_rate=0.15, n_estimators=500;, score=-36.862 total time=  15.2s\n",
      "[CV 1/5] END learning_rate=0.15, n_estimators=600;, score=-36.666 total time=  18.3s\n",
      "[CV 2/5] END learning_rate=0.15, n_estimators=600;, score=-36.630 total time=  18.3s\n",
      "[CV 3/5] END learning_rate=0.15, n_estimators=600;, score=-36.892 total time=  18.1s\n",
      "[CV 4/5] END learning_rate=0.15, n_estimators=600;, score=-37.297 total time=  18.5s\n",
      "[CV 5/5] END learning_rate=0.15, n_estimators=600;, score=-36.887 total time=  18.3s\n"
     ]
    },
    {
     "data": {
      "text/plain": [
       "({'learning_rate': 0.08, 'n_estimators': 600}, -36.45374240712551)"
      ]
     },
     "execution_count": 49,
     "metadata": {},
     "output_type": "execute_result"
    }
   ],
   "source": [
    "reg_alpha = gsearch4.best_params_['reg_alpha']\n",
    "\n",
    "param_set5 = {\n",
    "    'learning_rate':[0.08, 0.1,0.12,0.15],\n",
    "    'n_estimators':[400,500,600]\n",
    "}\n",
    "\n",
    "gsearch5 = model_selection.GridSearchCV(estimator = XGBRegressor(tree_method='gpu_hist',predictor='gpu_predictor',\n",
    "                                                                 max_depth=max_depth,gamma=gamma,\n",
    "                                                                 min_child_weight=min_child_weight,random_state=42,\n",
    "                                                                subsample=subsample,colsample_bytree=colsample_bytree,\n",
    "                                                                n_jobs=-1,reg_alpha=reg_alpha), \n",
    "                                        param_grid = param_set5, \n",
    "                                        scoring='neg_mean_absolute_error',cv=5, verbose=5)\n",
    "\n",
    "gsearch5.fit(x_dev_st,y_dev)\n",
    "gsearch5.best_params_, gsearch5.best_score_"
   ]
  },
  {
   "cell_type": "code",
   "execution_count": 48,
   "id": "b8fa1e7e",
   "metadata": {},
   "outputs": [
    {
     "data": {
      "text/plain": [
       "({'learning_rate': 0.1, 'n_estimators': 400}, -36.61043600523409)"
      ]
     },
     "execution_count": 48,
     "metadata": {},
     "output_type": "execute_result"
    }
   ],
   "source": [
    "gsearch5.best_params_, gsearch5.best_score_"
   ]
  },
  {
   "cell_type": "code",
   "execution_count": 50,
   "id": "4a6907f6",
   "metadata": {},
   "outputs": [
    {
     "name": "stdout",
     "output_type": "stream",
     "text": [
      "36.180695479388696\n",
      "4239.675618493808\n",
      "0.7315172673146424\n",
      "54070918395576.1\n"
     ]
    }
   ],
   "source": [
    "learning_rate = gsearch5.best_params_['learning_rate']\n",
    "n_estimators = gsearch5.best_params_['n_estimators']\n",
    "\n",
    "xgb = XGBRegressor(tree_method='gpu_hist',predictor='gpu_predictor',max_depth=max_depth,gamma=gamma,\n",
    "                          min_child_weight=min_child_weight,random_state=42,subsample=subsample,\n",
    "                          colsample_bytree=colsample_bytree,n_jobs=-1,reg_alpha=reg_alpha,\n",
    "                          learning_rate=learning_rate,n_estimators=n_estimators)\n",
    "xgb.fit(x_dev_st, y_dev)\n",
    "predictions = xgb.predict(x_test_st)\n",
    "print(metrics.mean_absolute_error(y_test,predictions))\n",
    "print(metrics.mean_squared_error(y_test,predictions))\n",
    "print(metrics.r2_score(y_test,predictions))\n",
    "print(metrics.mean_absolute_percentage_error(y_test,predictions))"
   ]
  },
  {
   "cell_type": "code",
   "execution_count": 53,
   "id": "f335ab83",
   "metadata": {},
   "outputs": [
    {
     "name": "stdout",
     "output_type": "stream",
     "text": [
      "tree_method=gpu_hist predictor: gpu_predictor max_depth 7 gamma 1.0 min_child_weight 5 random_state 42 subsample 0.96 colsample_bytree 0.6 n_jobs -1 reg_alpha 100 learning_rate 0.08 n_estimators 600\n"
     ]
    }
   ],
   "source": [
    "print('tree_method=gpu_hist','predictor:','gpu_predictor','max_depth',max_depth,'gamma',gamma,\n",
    "                          'min_child_weight',min_child_weight,'random_state',42,'subsample',subsample,\n",
    "                          'colsample_bytree',colsample_bytree,'n_jobs',-1,'reg_alpha',reg_alpha,\n",
    "                          'learning_rate',learning_rate,'n_estimators',n_estimators)"
   ]
  },
  {
   "cell_type": "code",
   "execution_count": 4,
   "id": "7157e896",
   "metadata": {},
   "outputs": [
    {
     "name": "stdout",
     "output_type": "stream",
     "text": [
      "36.180695479388696\n",
      "4239.675618493808\n",
      "0.7315172673146424\n",
      "54070918395576.1\n"
     ]
    }
   ],
   "source": [
    "xgb = XGBRegressor(tree_method='gpu_hist',predictor='gpu_predictor',max_depth=7,gamma=1.0,\n",
    "                          min_child_weight=5,random_state=42,subsample=0.96,\n",
    "                          colsample_bytree=0.6,n_jobs=-1,reg_alpha=100,\n",
    "                          learning_rate=0.08,n_estimators=600)\n",
    "xgb.fit(x_dev_st, y_dev)\n",
    "predictions = xgb.predict(x_test_st)\n",
    "print(metrics.mean_absolute_error(y_test,predictions))\n",
    "print(metrics.mean_squared_error(y_test,predictions))\n",
    "print(metrics.r2_score(y_test,predictions))\n",
    "print(metrics.mean_absolute_percentage_error(y_test,predictions))"
   ]
  },
  {
   "cell_type": "code",
   "execution_count": 11,
   "id": "bc094c08",
   "metadata": {},
   "outputs": [
    {
     "data": {
      "text/plain": [
       "[('Room Type', 0.16638063),\n",
       " ('Bedrooms', 0.081406094),\n",
       " ('Bathrooms', 0.06698384),\n",
       " ('Accommodates', 0.061999135),\n",
       " ('Zipcode', 0.035617534),\n",
       " ('Beds', 0.034626126),\n",
       " ('elevator in building', 0.019083522),\n",
       " ('State', 0.019057378),\n",
       " ('Country', 0.015901102),\n",
       " ('City', 0.014754138),\n",
       " ('Extra People', 0.014668597),\n",
       " ('Review Scores Location', 0.012784378),\n",
       " ('Number of Reviews', 0.012464548),\n",
       " ('Host Response Time', 0.012323665),\n",
       " ('Property Type', 0.012124726),\n",
       " ('cable tv', 0.01090748),\n",
       " ('cleaning before checkout', 0.010812915),\n",
       " ('buzzer/wireless intercom', 0.009843175),\n",
       " ('Guests Included', 0.009518184),\n",
       " ('Availability 60', 0.009446002),\n",
       " ('tv', 0.009127919),\n",
       " ('Availability 90', 0.008790022),\n",
       " ('doorman', 0.008634468),\n",
       " ('air conditioning', 0.008522874),\n",
       " ('wireless internet', 0.008207075),\n",
       " ('doorman entry', 0.008163188),\n",
       " ('indoor fireplace', 0.007983646),\n",
       " ('Reviews per Month', 0.0074805613),\n",
       " ('pool', 0.007150539),\n",
       " ('Cancellation Policy', 0.0067959353),\n",
       " ('free parking on premises', 0.0067624985),\n",
       " ('Host Listings Count', 0.0061534354),\n",
       " ('Minimum Nights', 0.00608684),\n",
       " ('Availability 30', 0.005850286),\n",
       " ('Review Scores Rating', 0.0056168707),\n",
       " ('dryer', 0.0053476994),\n",
       " ('oven', 0.0048870947),\n",
       " ('require guest phone verification', 0.0048037325),\n",
       " ('Review Scores Value', 0.004695249),\n",
       " ('gym', 0.0046594474),\n",
       " ('Review Scores Communication', 0.004570783),\n",
       " ('Host Total Listings Count', 0.0044762664),\n",
       " ('Maximum Nights', 0.004407051),\n",
       " ('Availability 365', 0.004292187),\n",
       " ('kitchen', 0.0040820646),\n",
       " ('hot tub', 0.004053572),\n",
       " ('Review Scores Cleanliness', 0.0039482093),\n",
       " ('suitable for events', 0.0038116684),\n",
       " ('essentials', 0.0037673782),\n",
       " ('hangers', 0.0037579907),\n",
       " ('instant bookable', 0.0036740054),\n",
       " ('is location exact', 0.0035039487),\n",
       " ('breakfast', 0.0034905793),\n",
       " ('wheelchair accessible', 0.0034763552),\n",
       " ('Host Response Rate', 0.0034375554),\n",
       " ('host is superhost', 0.0033210036),\n",
       " ('heating', 0.0033164076),\n",
       " ('washer', 0.0032890355),\n",
       " ('private entrance', 0.0032123465),\n",
       " ('translation missing: en.hosting_amenity_50', 0.0031978914),\n",
       " ('requires license', 0.0031718118),\n",
       " ('shampoo', 0.0031392227),\n",
       " ('smoke detector', 0.0031117585),\n",
       " ('Review Scores Checkin', 0.0030993242),\n",
       " ('babysitter recommendations', 0.0030304084),\n",
       " ('Summary', 0.003013223),\n",
       " ('Description', 0.0029985586),\n",
       " ('hot water', 0.0029731856),\n",
       " ('keypad', 0.002919125),\n",
       " ('carbon monoxide detector', 0.0029144788),\n",
       " ('first aid kit', 0.0029073793),\n",
       " ('pets allowed', 0.002898965),\n",
       " ('fire extinguisher', 0.0028850273),\n",
       " ('internet', 0.0028779423),\n",
       " ('iron', 0.0028760603),\n",
       " ('dog(s)', 0.0028681753),\n",
       " ('family/kid friendly', 0.0028618313),\n",
       " ('24-hour check-in', 0.0028523158),\n",
       " ('Neighborhood Overview', 0.0028433814),\n",
       " ('host has profile pic', 0.0028272965),\n",
       " ('microwave', 0.0028083604),\n",
       " ('safety card', 0.0027745238),\n",
       " ('bed linens', 0.002758977),\n",
       " ('host identity verified', 0.002688258),\n",
       " ('hair dryer', 0.002671702),\n",
       " ('crib', 0.0026287118),\n",
       " ('Access', 0.002617822),\n",
       " ('high chair', 0.002541771),\n",
       " ('lockbox', 0.0025368808),\n",
       " ('House Rules', 0.002513974),\n",
       " ('outlet covers', 0.002507665),\n",
       " ('translation missing: en.hosting_amenity_49', 0.0025069339),\n",
       " ('cat(s)', 0.002493725),\n",
       " ('Transit', 0.0024843796),\n",
       " ('self check-in', 0.0024790096),\n",
       " ('long term stays allowed', 0.0024773444),\n",
       " ('garden or backyard', 0.0024460088),\n",
       " ('require guest profile picture', 0.0024325536),\n",
       " ('laptop friendly workspace', 0.0024310206),\n",
       " ('lock on bedroom door', 0.0023921737),\n",
       " ('washer / dryer', 0.002379652),\n",
       " ('bathtub', 0.002330049),\n",
       " ('smoking allowed', 0.0023259702),\n",
       " ('pets live on this property', 0.0022692468),\n",
       " ('Review Scores Accuracy', 0.0022654543),\n",
       " ('Bed Type', 0.0022544193),\n",
       " ('pack ’n play/travel crib', 0.0021188855),\n",
       " ('private bathroom', 0.0019761287),\n",
       " ('cooking basics', 0.0019380035),\n",
       " ('stair gates', 0.0018827019),\n",
       " ('private living room', 0.0018151928),\n",
       " ('children’s books and toys', 0.0018049466),\n",
       " ('single level home', 0.0017448324),\n",
       " ('smartlock', 0.0016967092),\n",
       " ('fireplace guards', 0.0016959853),\n",
       " ('dishes and silverware', 0.0015619484),\n",
       " ('game console', 0.0015068651),\n",
       " ('path to entrance lit at night', 0.0014907145),\n",
       " ('other pet(s)', 0.0014790891),\n",
       " ('dishwasher', 0.0014371708),\n",
       " ('changing table', 0.001370099),\n",
       " ('room-darkening shades', 0.0012945636),\n",
       " ('baby bath', 0.00096979836),\n",
       " ('smart lock', 0.0009565432),\n",
       " ('coffee maker', 0.0009081479),\n",
       " ('patio or balcony', 0.0008884647),\n",
       " ('window guards', 0.00071273395),\n",
       " ('luggage dropoff allowed', 0.00066487375),\n",
       " ('stove', 0.00066202827),\n",
       " ('children’s dinnerware', 0.0005113495),\n",
       " ('free parking on street', 0.00038767292),\n",
       " ('flat smooth pathway to front door', 0.00036484745),\n",
       " ('wide clearance to bed', 0.0002610692),\n",
       " ('wide hallway clearance', 0.00020071695),\n",
       " ('ethernet connection', 0.00010297967),\n",
       " ('firm mattress', 0.0),\n",
       " ('beach essentials', 0.0),\n",
       " ('waterfront', 0.0),\n",
       " ('pocket wifi', 0.0),\n",
       " ('wide clearance to shower and toilet', 0.0),\n",
       " ('lake access', 0.0),\n",
       " ('paid parking off premises', 0.0),\n",
       " ('accessible-height toilet', 0.0),\n",
       " ('accessible-height bed', 0.0),\n",
       " ('grab-rails for shower and toilet', 0.0),\n",
       " ('disabled parking spot', 0.0),\n",
       " ('tub with shower bench', 0.0),\n",
       " ('firm matress', 0.0),\n",
       " ('bbq grill', 0.0),\n",
       " ('beachfront', 0.0),\n",
       " ('refrigerator', 0.0),\n",
       " ('ev charger', 0.0),\n",
       " ('step-free access', 0.0),\n",
       " ('wide doorway', 0.0),\n",
       " ('roll-in shower with shower bench or chair', 0.0),\n",
       " ('table corner guards', 0.0),\n",
       " ('extra pillows and blankets', 0.0),\n",
       " ('baby monitor', 0.0)]"
      ]
     },
     "execution_count": 11,
     "metadata": {},
     "output_type": "execute_result"
    }
   ],
   "source": [
    "sorted(list(zip(x_dev.columns,xgb.feature_importances_)),key=lambda x:x[1],reverse=True)"
   ]
  },
  {
   "cell_type": "code",
   "execution_count": 22,
   "id": "b2266ac0",
   "metadata": {},
   "outputs": [],
   "source": [
    "outcome = pd.DataFrame({'predictions':predictions,'true':y_test}).reset_index().drop(['ID'],axis=1)"
   ]
  },
  {
   "cell_type": "code",
   "execution_count": 24,
   "id": "310a0320",
   "metadata": {},
   "outputs": [
    {
     "data": {
      "text/html": [
       "<div>\n",
       "<style scoped>\n",
       "    .dataframe tbody tr th:only-of-type {\n",
       "        vertical-align: middle;\n",
       "    }\n",
       "\n",
       "    .dataframe tbody tr th {\n",
       "        vertical-align: top;\n",
       "    }\n",
       "\n",
       "    .dataframe thead th {\n",
       "        text-align: right;\n",
       "    }\n",
       "</style>\n",
       "<table border=\"1\" class=\"dataframe\">\n",
       "  <thead>\n",
       "    <tr style=\"text-align: right;\">\n",
       "      <th></th>\n",
       "      <th>predictions</th>\n",
       "      <th>true</th>\n",
       "    </tr>\n",
       "  </thead>\n",
       "  <tbody>\n",
       "    <tr>\n",
       "      <th>0</th>\n",
       "      <td>102.234116</td>\n",
       "      <td>60.0</td>\n",
       "    </tr>\n",
       "    <tr>\n",
       "      <th>1</th>\n",
       "      <td>178.942642</td>\n",
       "      <td>280.0</td>\n",
       "    </tr>\n",
       "    <tr>\n",
       "      <th>2</th>\n",
       "      <td>73.568832</td>\n",
       "      <td>118.0</td>\n",
       "    </tr>\n",
       "    <tr>\n",
       "      <th>3</th>\n",
       "      <td>276.943024</td>\n",
       "      <td>550.0</td>\n",
       "    </tr>\n",
       "    <tr>\n",
       "      <th>4</th>\n",
       "      <td>34.608395</td>\n",
       "      <td>25.0</td>\n",
       "    </tr>\n",
       "    <tr>\n",
       "      <th>...</th>\n",
       "      <td>...</td>\n",
       "      <td>...</td>\n",
       "    </tr>\n",
       "    <tr>\n",
       "      <th>51253</th>\n",
       "      <td>56.620724</td>\n",
       "      <td>55.0</td>\n",
       "    </tr>\n",
       "    <tr>\n",
       "      <th>51254</th>\n",
       "      <td>91.539398</td>\n",
       "      <td>94.0</td>\n",
       "    </tr>\n",
       "    <tr>\n",
       "      <th>51255</th>\n",
       "      <td>160.509979</td>\n",
       "      <td>175.0</td>\n",
       "    </tr>\n",
       "    <tr>\n",
       "      <th>51256</th>\n",
       "      <td>106.060707</td>\n",
       "      <td>85.0</td>\n",
       "    </tr>\n",
       "    <tr>\n",
       "      <th>51257</th>\n",
       "      <td>80.047661</td>\n",
       "      <td>95.0</td>\n",
       "    </tr>\n",
       "  </tbody>\n",
       "</table>\n",
       "<p>51258 rows × 2 columns</p>\n",
       "</div>"
      ],
      "text/plain": [
       "       predictions   true\n",
       "0       102.234116   60.0\n",
       "1       178.942642  280.0\n",
       "2        73.568832  118.0\n",
       "3       276.943024  550.0\n",
       "4        34.608395   25.0\n",
       "...            ...    ...\n",
       "51253    56.620724   55.0\n",
       "51254    91.539398   94.0\n",
       "51255   160.509979  175.0\n",
       "51256   106.060707   85.0\n",
       "51257    80.047661   95.0\n",
       "\n",
       "[51258 rows x 2 columns]"
      ]
     },
     "execution_count": 24,
     "metadata": {},
     "output_type": "execute_result"
    }
   ],
   "source": [
    "outcome"
   ]
  },
  {
   "cell_type": "code",
   "execution_count": 34,
   "id": "1bda3bb1",
   "metadata": {},
   "outputs": [
    {
     "data": {
      "text/plain": [
       "<AxesSubplot:>"
      ]
     },
     "execution_count": 34,
     "metadata": {},
     "output_type": "execute_result"
    },
    {
     "data": {
      "image/png": "[encoded data removed]",
      "text/plain": [
       "<Figure size 432x288 with 1 Axes>"
      ]
     },
     "metadata": {
      "needs_background": "light"
     },
     "output_type": "display_data"
    }
   ],
   "source": [
    "sns.scatterplot(data=outcome[:100])"
   ]
  },
  {
   "cell_type": "code",
   "execution_count": 33,
   "id": "1e116fc3",
   "metadata": {},
   "outputs": [
    {
     "data": {
      "text/plain": [
       "<AxesSubplot:>"
      ]
     },
     "execution_count": 33,
     "metadata": {},
     "output_type": "execute_result"
    },
    {
     "data": {
      "image/png": "[encoded data removed]",
      "text/plain": [
       "<Figure size 432x288 with 1 Axes>"
      ]
     },
     "metadata": {
      "needs_background": "light"
     },
     "output_type": "display_data"
    }
   ],
   "source": [
    "sns.scatterplot(data=outcome.iloc[-100:,1]-outcome.iloc[-100:,0])"
   ]
  },
  {
   "cell_type": "code",
   "execution_count": null,
   "id": "183ce5c5",
   "metadata": {},
   "outputs": [],
   "source": []
  }
 ],
 "metadata": {
  "kernelspec": {
   "display_name": "Python 3",
   "language": "python",
   "name": "python3"
  },
  "language_info": {
   "codemirror_mode": {
    "name": "ipython",
    "version": 3
   },
   "file_extension": ".py",
   "mimetype": "text/x-python",
   "name": "python",
   "nbconvert_exporter": "python",
   "pygments_lexer": "ipython3",
   "version": "3.8.8"
  }
 },
 "nbformat": 4,
 "nbformat_minor": 5
}
