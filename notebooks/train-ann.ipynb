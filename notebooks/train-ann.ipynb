{
  "nbformat": 4,
  "nbformat_minor": 0,
  "metadata": {
    "colab": {
      "provenance": [],
      "toc_visible": true
    },
    "kernelspec": {
      "name": "python3",
      "display_name": "Python 3"
    },
    "language_info": {
      "name": "python"
    },
    "accelerator": "GPU",
    "gpuClass": "standard"
  },
  "cells": [
    {
      "cell_type": "code",
      "execution_count": null,
      "metadata": {
        "colab": {
          "base_uri": "https://localhost:8080/"
        },
        "id": "HIfC2tM3ESQa",
        "outputId": "41c78873-8d8c-4d80-a69a-5ffedee19822"
      },
      "outputs": [
        {
          "output_type": "stream",
          "name": "stdout",
          "text": [
            "Mounted at /content/gdrive\n"
          ]
        }
      ],
      "source": [
        "# Mount google drive to access the data file\n",
        "from google.colab import drive\n",
        "drive.mount('/content/gdrive')"
      ]
    },
    {
      "cell_type": "code",
      "source": [
        "# Change working dir  \n",
        "!ls\n",
        "import os\n",
        "os.chdir('/content/gdrive/MyDrive/4995_Final_Project')\n",
        "!ls"
      ],
      "metadata": {
        "colab": {
          "base_uri": "https://localhost:8080/"
        },
        "id": "VO_WHWHuFaF6",
        "outputId": "712882ae-3008-45c7-b357-c71353c515b0"
      },
      "execution_count": null,
      "outputs": [
        {
          "output_type": "stream",
          "name": "stdout",
          "text": [
            "gdrive\tsample_data\n",
            "ANN_Training.ipynb  final.csv\n"
          ]
        }
      ]
    },
    {
      "cell_type": "code",
      "source": [
        "# Load CSV file data and drop the unwanted columns\n",
        "import pandas as pd\n",
        "raw_df = pd.read_csv(\"./final.csv\")\n",
        "cols_to_drop = ['ID', 'Name', 'Host ID', 'Host Since']\n",
        "df = raw_df.drop(cols_to_drop, axis=1)\n",
        "print(df.head())"
      ],
      "metadata": {
        "colab": {
          "base_uri": "https://localhost:8080/"
        },
        "id": "vUvL0WtRFt-z",
        "outputId": "8b279490-e8d2-47d5-dd59-49363df21adc"
      },
      "execution_count": null,
      "outputs": [
        {
          "output_type": "stream",
          "name": "stdout",
          "text": [
            "   Host Response Time  Host Response Rate  Host Listings Count  \\\n",
            "0                 4.0           100.00000                  1.0   \n",
            "1                 4.0           100.00000                  1.0   \n",
            "2                 0.0            93.61078                  1.0   \n",
            "3                 4.0            95.00000                  2.0   \n",
            "4                 4.0            95.00000                  2.0   \n",
            "\n",
            "   Host Total Listings Count        City       State     Zipcode     Country  \\\n",
            "0                        1.0  181.364666  158.590834  133.040921  156.265711   \n",
            "1                        1.0  120.574380  158.590834  106.187970  156.265711   \n",
            "2                        1.0  112.772201  158.590834  108.543103  156.265711   \n",
            "3                        2.0  128.581522  128.386989  145.590164  156.265711   \n",
            "4                        2.0  128.581522  128.386989  145.590164  156.265711   \n",
            "\n",
            "   Property Type  Room Type  ...  carbon monoxide detector  \\\n",
            "0     159.950205        0.0  ...                         1   \n",
            "1     177.112083        0.0  ...                         1   \n",
            "2     159.950205        0.0  ...                         1   \n",
            "3     159.950205        1.0  ...                         1   \n",
            "4     159.950205        1.0  ...                         1   \n",
            "\n",
            "   private living room  cleaning before checkout  baby monitor  Summary  \\\n",
            "0                    0                         0             0   0.9843   \n",
            "1                    0                         0             0   0.8828   \n",
            "2                    0                         0             0   0.9679   \n",
            "3                    0                         0             0   0.5994   \n",
            "4                    0                         0             0   0.0000   \n",
            "\n",
            "   Description  Neighborhood Overview  Access  Transit  House Rules  \n",
            "0       0.9942                 0.9468  0.3818   0.9380       0.6808  \n",
            "1       0.9773                 0.0000  0.0000   0.0000       0.9255  \n",
            "2       0.9944                 0.8268  0.4404   0.5574      -0.1184  \n",
            "3       0.9904                 0.8442  0.0000   0.6808       0.0000  \n",
            "4       0.9889                 0.0000  0.0000   0.5994       0.0000  \n",
            "\n",
            "[5 rows x 159 columns]\n"
          ]
        }
      ]
    },
    {
      "cell_type": "code",
      "source": [
        "# Pre-process\n",
        "import numpy as np\n",
        "from scipy.stats import skew\n",
        "\n",
        "#log transform skewed numeric features:\n",
        "numeric_feats = df.dtypes[df.dtypes != 'object'].index\n",
        "skewed_feats = df[numeric_feats].apply(lambda x: skew(x.dropna()))\n",
        "#compute skewness\n",
        "skewed_feats = skewed_feats[skewed_feats > 0.75]\n",
        "skewed_feats = skewed_feats.index\n",
        "\n",
        "df[skewed_feats] = np.log1p(df[skewed_feats])\n",
        "print(df.head())"
      ],
      "metadata": {
        "colab": {
          "base_uri": "https://localhost:8080/"
        },
        "id": "SPmaVCe4MFci",
        "outputId": "195414d6-4358-40a6-b72d-847b2e90bb71"
      },
      "execution_count": null,
      "outputs": [
        {
          "output_type": "stream",
          "name": "stdout",
          "text": [
            "   Host Response Time  Host Response Rate  Host Listings Count  \\\n",
            "0                 4.0           100.00000             0.693147   \n",
            "1                 4.0           100.00000             0.693147   \n",
            "2                 0.0            93.61078             0.693147   \n",
            "3                 4.0            95.00000             1.098612   \n",
            "4                 4.0            95.00000             1.098612   \n",
            "\n",
            "   Host Total Listings Count      City       State   Zipcode     Country  \\\n",
            "0                   0.693147  5.206008  158.590834  4.898145  156.265711   \n",
            "1                   0.693147  4.800526  158.590834  4.674584  156.265711   \n",
            "2                   0.693147  4.734198  158.590834  4.696318  156.265711   \n",
            "3                   1.098612  4.864310  128.386989  4.987641  156.265711   \n",
            "4                   1.098612  4.864310  128.386989  4.987641  156.265711   \n",
            "\n",
            "   Property Type  Room Type  ...  carbon monoxide detector  \\\n",
            "0     159.950205        0.0  ...                         1   \n",
            "1     177.112083        0.0  ...                         1   \n",
            "2     159.950205        0.0  ...                         1   \n",
            "3     159.950205        1.0  ...                         1   \n",
            "4     159.950205        1.0  ...                         1   \n",
            "\n",
            "   private living room  cleaning before checkout  baby monitor  Summary  \\\n",
            "0                  0.0                       0.0           0.0   0.9843   \n",
            "1                  0.0                       0.0           0.0   0.8828   \n",
            "2                  0.0                       0.0           0.0   0.9679   \n",
            "3                  0.0                       0.0           0.0   0.5994   \n",
            "4                  0.0                       0.0           0.0   0.0000   \n",
            "\n",
            "   Description  Neighborhood Overview    Access  Transit  House Rules  \n",
            "0       0.9942                 0.9468  0.323387   0.9380       0.6808  \n",
            "1       0.9773                 0.0000  0.000000   0.0000       0.9255  \n",
            "2       0.9944                 0.8268  0.364921   0.5574      -0.1184  \n",
            "3       0.9904                 0.8442  0.000000   0.6808       0.0000  \n",
            "4       0.9889                 0.0000  0.000000   0.5994       0.0000  \n",
            "\n",
            "[5 rows x 159 columns]\n"
          ]
        }
      ]
    },
    {
      "cell_type": "code",
      "source": [
        "# Train / test dataset split\n",
        "from sklearn.preprocessing import StandardScaler\n",
        "from sklearn.model_selection import train_test_split\n",
        "# Separating X and y\n",
        "X = df.drop('Price', axis=1)\n",
        "y = df.Price\n",
        "\n",
        "# Scaling\n",
        "scaler = StandardScaler()\n",
        "X = pd.DataFrame(scaler.fit_transform(X), columns=list(X.columns))\n",
        "\n",
        "# Splitting into train and test sets\n",
        "X_train, X_test, y_train, y_test = train_test_split(X, y, test_size=0.2, random_state=42)"
      ],
      "metadata": {
        "id": "6x13k8zFV2fV"
      },
      "execution_count": null,
      "outputs": []
    },
    {
      "cell_type": "code",
      "source": [
        "# Building the model\n",
        "from keras import models, layers, optimizers, regularizers\n",
        "from keras.utils.vis_utils import model_to_dot\n",
        "from IPython.display import SVG\n",
        "\n",
        "nn2 = models.Sequential()\n",
        "nn2.add(layers.Dense(128, input_shape=(X_train.shape[1],), activation='relu'))\n",
        "nn2.add(layers.Dense(256, activation='relu'))\n",
        "nn2.add(layers.Dense(256, activation='relu'))\n",
        "nn2.add(layers.Dense(1, activation='linear'))\n",
        "\n",
        "# Compiling the model\n",
        "nn2.compile(loss='mean_squared_error',\n",
        "            optimizer='adam',\n",
        "            metrics=['mean_squared_error'])\n",
        "\n",
        "# Model summary\n",
        "print(nn2.summary())\n",
        "\n",
        "# Visualising the neural network\n",
        "SVG(model_to_dot(nn2, show_layer_names=True, show_shapes=True, dpi=70).create(prog='dot', format='svg'))"
      ],
      "metadata": {
        "colab": {
          "base_uri": "https://localhost:8080/",
          "height": 856
        },
        "id": "LMkoAr0qXuGM",
        "outputId": "2ba73666-6656-42e3-b48e-e2df8673c97d"
      },
      "execution_count": null,
      "outputs": [
        {
          "output_type": "stream",
          "name": "stdout",
          "text": [
            "Model: \"sequential\"\n",
            "_________________________________________________________________\n",
            " Layer (type)                Output Shape              Param #   \n",
            "=================================================================\n",
            " dense (Dense)               (None, 128)               20352     \n",
            "                                                                 \n",
            " dense_1 (Dense)             (None, 256)               33024     \n",
            "                                                                 \n",
            " dense_2 (Dense)             (None, 256)               65792     \n",
            "                                                                 \n",
            " dense_3 (Dense)             (None, 1)                 257       \n",
            "                                                                 \n",
            "=================================================================\n",
            "Total params: 119,425\n",
            "Trainable params: 119,425\n",
            "Non-trainable params: 0\n",
            "_________________________________________________________________\n",
            "None\n"
          ]
        },
        {
          "output_type": "execute_result",
          "data": {
            "text/plain": [
              "<IPython.core.display.SVG object>"
            ],
            "image/svg+xml": "<svg xmlns=\"http://www.w3.org/2000/svg\" xmlns:xlink=\"http://www.w3.org/1999/xlink\" width=\"241pt\" height=\"376pt\" viewBox=\"0.00 0.00 248.00 387.00\">\n<g id=\"graph0\" class=\"graph\" transform=\"scale(.9722 .9722) rotate(0) translate(4 383)\">\n<title>G</title>\n<polygon fill=\"#ffffff\" stroke=\"transparent\" points=\"-4,4 -4,-383 244,-383 244,4 -4,4\"/>\n<!-- 139667451062544 -->\n<g id=\"node1\" class=\"node\">\n<title>139667451062544</title>\n<polygon fill=\"none\" stroke=\"#000000\" points=\"0,-332.5 0,-378.5 240,-378.5 240,-332.5 0,-332.5\"/>\n<text text-anchor=\"middle\" x=\"43\" y=\"-363.3\" font-family=\"Times,serif\" font-size=\"14.00\" fill=\"#000000\">dense_input</text>\n<polyline fill=\"none\" stroke=\"#000000\" points=\"0,-355.5 86,-355.5 \"/>\n<text text-anchor=\"middle\" x=\"43\" y=\"-340.3\" font-family=\"Times,serif\" font-size=\"14.00\" fill=\"#000000\">InputLayer</text>\n<polyline fill=\"none\" stroke=\"#000000\" points=\"86,-332.5 86,-378.5 \"/>\n<text text-anchor=\"middle\" x=\"115\" y=\"-363.3\" font-family=\"Times,serif\" font-size=\"14.00\" fill=\"#000000\">input:</text>\n<polyline fill=\"none\" stroke=\"#000000\" points=\"86,-355.5 144,-355.5 \"/>\n<text text-anchor=\"middle\" x=\"115\" y=\"-340.3\" font-family=\"Times,serif\" font-size=\"14.00\" fill=\"#000000\">output:</text>\n<polyline fill=\"none\" stroke=\"#000000\" points=\"144,-332.5 144,-378.5 \"/>\n<text text-anchor=\"middle\" x=\"192\" y=\"-363.3\" font-family=\"Times,serif\" font-size=\"14.00\" fill=\"#000000\">[(None, 158)]</text>\n<polyline fill=\"none\" stroke=\"#000000\" points=\"144,-355.5 240,-355.5 \"/>\n<text text-anchor=\"middle\" x=\"192\" y=\"-340.3\" font-family=\"Times,serif\" font-size=\"14.00\" fill=\"#000000\">[(None, 158)]</text>\n</g>\n<!-- 139667110357312 -->\n<g id=\"node2\" class=\"node\">\n<title>139667110357312</title>\n<polygon fill=\"none\" stroke=\"#000000\" points=\"21.5,-249.5 21.5,-295.5 218.5,-295.5 218.5,-249.5 21.5,-249.5\"/>\n<text text-anchor=\"middle\" x=\"47.5\" y=\"-280.3\" font-family=\"Times,serif\" font-size=\"14.00\" fill=\"#000000\">dense</text>\n<polyline fill=\"none\" stroke=\"#000000\" points=\"21.5,-272.5 73.5,-272.5 \"/>\n<text text-anchor=\"middle\" x=\"47.5\" y=\"-257.3\" font-family=\"Times,serif\" font-size=\"14.00\" fill=\"#000000\">Dense</text>\n<polyline fill=\"none\" stroke=\"#000000\" points=\"73.5,-249.5 73.5,-295.5 \"/>\n<text text-anchor=\"middle\" x=\"102.5\" y=\"-280.3\" font-family=\"Times,serif\" font-size=\"14.00\" fill=\"#000000\">input:</text>\n<polyline fill=\"none\" stroke=\"#000000\" points=\"73.5,-272.5 131.5,-272.5 \"/>\n<text text-anchor=\"middle\" x=\"102.5\" y=\"-257.3\" font-family=\"Times,serif\" font-size=\"14.00\" fill=\"#000000\">output:</text>\n<polyline fill=\"none\" stroke=\"#000000\" points=\"131.5,-249.5 131.5,-295.5 \"/>\n<text text-anchor=\"middle\" x=\"175\" y=\"-280.3\" font-family=\"Times,serif\" font-size=\"14.00\" fill=\"#000000\">(None, 158)</text>\n<polyline fill=\"none\" stroke=\"#000000\" points=\"131.5,-272.5 218.5,-272.5 \"/>\n<text text-anchor=\"middle\" x=\"175\" y=\"-257.3\" font-family=\"Times,serif\" font-size=\"14.00\" fill=\"#000000\">(None, 128)</text>\n</g>\n<!-- 139667451062544&#45;&gt;139667110357312 -->\n<g id=\"edge1\" class=\"edge\">\n<title>139667451062544-&gt;139667110357312</title>\n<path fill=\"none\" stroke=\"#000000\" d=\"M120,-332.3799C120,-324.1745 120,-314.7679 120,-305.8786\"/>\n<polygon fill=\"#000000\" stroke=\"#000000\" points=\"123.5001,-305.784 120,-295.784 116.5001,-305.784 123.5001,-305.784\"/>\n</g>\n<!-- 139665671088688 -->\n<g id=\"node3\" class=\"node\">\n<title>139665671088688</title>\n<polygon fill=\"none\" stroke=\"#000000\" points=\"15.5,-166.5 15.5,-212.5 224.5,-212.5 224.5,-166.5 15.5,-166.5\"/>\n<text text-anchor=\"middle\" x=\"47.5\" y=\"-197.3\" font-family=\"Times,serif\" font-size=\"14.00\" fill=\"#000000\">dense_1</text>\n<polyline fill=\"none\" stroke=\"#000000\" points=\"15.5,-189.5 79.5,-189.5 \"/>\n<text text-anchor=\"middle\" x=\"47.5\" y=\"-174.3\" font-family=\"Times,serif\" font-size=\"14.00\" fill=\"#000000\">Dense</text>\n<polyline fill=\"none\" stroke=\"#000000\" points=\"79.5,-166.5 79.5,-212.5 \"/>\n<text text-anchor=\"middle\" x=\"108.5\" y=\"-197.3\" font-family=\"Times,serif\" font-size=\"14.00\" fill=\"#000000\">input:</text>\n<polyline fill=\"none\" stroke=\"#000000\" points=\"79.5,-189.5 137.5,-189.5 \"/>\n<text text-anchor=\"middle\" x=\"108.5\" y=\"-174.3\" font-family=\"Times,serif\" font-size=\"14.00\" fill=\"#000000\">output:</text>\n<polyline fill=\"none\" stroke=\"#000000\" points=\"137.5,-166.5 137.5,-212.5 \"/>\n<text text-anchor=\"middle\" x=\"181\" y=\"-197.3\" font-family=\"Times,serif\" font-size=\"14.00\" fill=\"#000000\">(None, 128)</text>\n<polyline fill=\"none\" stroke=\"#000000\" points=\"137.5,-189.5 224.5,-189.5 \"/>\n<text text-anchor=\"middle\" x=\"181\" y=\"-174.3\" font-family=\"Times,serif\" font-size=\"14.00\" fill=\"#000000\">(None, 256)</text>\n</g>\n<!-- 139667110357312&#45;&gt;139665671088688 -->\n<g id=\"edge2\" class=\"edge\">\n<title>139667110357312-&gt;139665671088688</title>\n<path fill=\"none\" stroke=\"#000000\" d=\"M120,-249.3799C120,-241.1745 120,-231.7679 120,-222.8786\"/>\n<polygon fill=\"#000000\" stroke=\"#000000\" points=\"123.5001,-222.784 120,-212.784 116.5001,-222.784 123.5001,-222.784\"/>\n</g>\n<!-- 139665652019008 -->\n<g id=\"node4\" class=\"node\">\n<title>139665652019008</title>\n<polygon fill=\"none\" stroke=\"#000000\" points=\"15.5,-83.5 15.5,-129.5 224.5,-129.5 224.5,-83.5 15.5,-83.5\"/>\n<text text-anchor=\"middle\" x=\"47.5\" y=\"-114.3\" font-family=\"Times,serif\" font-size=\"14.00\" fill=\"#000000\">dense_2</text>\n<polyline fill=\"none\" stroke=\"#000000\" points=\"15.5,-106.5 79.5,-106.5 \"/>\n<text text-anchor=\"middle\" x=\"47.5\" y=\"-91.3\" font-family=\"Times,serif\" font-size=\"14.00\" fill=\"#000000\">Dense</text>\n<polyline fill=\"none\" stroke=\"#000000\" points=\"79.5,-83.5 79.5,-129.5 \"/>\n<text text-anchor=\"middle\" x=\"108.5\" y=\"-114.3\" font-family=\"Times,serif\" font-size=\"14.00\" fill=\"#000000\">input:</text>\n<polyline fill=\"none\" stroke=\"#000000\" points=\"79.5,-106.5 137.5,-106.5 \"/>\n<text text-anchor=\"middle\" x=\"108.5\" y=\"-91.3\" font-family=\"Times,serif\" font-size=\"14.00\" fill=\"#000000\">output:</text>\n<polyline fill=\"none\" stroke=\"#000000\" points=\"137.5,-83.5 137.5,-129.5 \"/>\n<text text-anchor=\"middle\" x=\"181\" y=\"-114.3\" font-family=\"Times,serif\" font-size=\"14.00\" fill=\"#000000\">(None, 256)</text>\n<polyline fill=\"none\" stroke=\"#000000\" points=\"137.5,-106.5 224.5,-106.5 \"/>\n<text text-anchor=\"middle\" x=\"181\" y=\"-91.3\" font-family=\"Times,serif\" font-size=\"14.00\" fill=\"#000000\">(None, 256)</text>\n</g>\n<!-- 139665671088688&#45;&gt;139665652019008 -->\n<g id=\"edge3\" class=\"edge\">\n<title>139665671088688-&gt;139665652019008</title>\n<path fill=\"none\" stroke=\"#000000\" d=\"M120,-166.3799C120,-158.1745 120,-148.7679 120,-139.8786\"/>\n<polygon fill=\"#000000\" stroke=\"#000000\" points=\"123.5001,-139.784 120,-129.784 116.5001,-139.784 123.5001,-139.784\"/>\n</g>\n<!-- 139665665483920 -->\n<g id=\"node5\" class=\"node\">\n<title>139665665483920</title>\n<polygon fill=\"none\" stroke=\"#000000\" points=\"15.5,-.5 15.5,-46.5 224.5,-46.5 224.5,-.5 15.5,-.5\"/>\n<text text-anchor=\"middle\" x=\"47.5\" y=\"-31.3\" font-family=\"Times,serif\" font-size=\"14.00\" fill=\"#000000\">dense_3</text>\n<polyline fill=\"none\" stroke=\"#000000\" points=\"15.5,-23.5 79.5,-23.5 \"/>\n<text text-anchor=\"middle\" x=\"47.5\" y=\"-8.3\" font-family=\"Times,serif\" font-size=\"14.00\" fill=\"#000000\">Dense</text>\n<polyline fill=\"none\" stroke=\"#000000\" points=\"79.5,-.5 79.5,-46.5 \"/>\n<text text-anchor=\"middle\" x=\"108.5\" y=\"-31.3\" font-family=\"Times,serif\" font-size=\"14.00\" fill=\"#000000\">input:</text>\n<polyline fill=\"none\" stroke=\"#000000\" points=\"79.5,-23.5 137.5,-23.5 \"/>\n<text text-anchor=\"middle\" x=\"108.5\" y=\"-8.3\" font-family=\"Times,serif\" font-size=\"14.00\" fill=\"#000000\">output:</text>\n<polyline fill=\"none\" stroke=\"#000000\" points=\"137.5,-.5 137.5,-46.5 \"/>\n<text text-anchor=\"middle\" x=\"181\" y=\"-31.3\" font-family=\"Times,serif\" font-size=\"14.00\" fill=\"#000000\">(None, 256)</text>\n<polyline fill=\"none\" stroke=\"#000000\" points=\"137.5,-23.5 224.5,-23.5 \"/>\n<text text-anchor=\"middle\" x=\"181\" y=\"-8.3\" font-family=\"Times,serif\" font-size=\"14.00\" fill=\"#000000\">(None, 1)</text>\n</g>\n<!-- 139665652019008&#45;&gt;139665665483920 -->\n<g id=\"edge4\" class=\"edge\">\n<title>139665652019008-&gt;139665665483920</title>\n<path fill=\"none\" stroke=\"#000000\" d=\"M120,-83.3799C120,-75.1745 120,-65.7679 120,-56.8786\"/>\n<polygon fill=\"#000000\" stroke=\"#000000\" points=\"123.5001,-56.784 120,-46.784 116.5001,-56.784 123.5001,-56.784\"/>\n</g>\n</g>\n</svg>"
          },
          "metadata": {},
          "execution_count": 7
        }
      ]
    },
    {
      "cell_type": "code",
      "source": [
        "# Training the model\n",
        "import time\n",
        "\n",
        "nn2_start = time.time()\n",
        "\n",
        "nn2_history = nn2.fit(X_train,\n",
        "            y_train,\n",
        "            epochs=100,\n",
        "            batch_size=256,\n",
        "            validation_split = 0.1)\n",
        "\n",
        "nn2_end = time.time()\n",
        "\n",
        "print(f\"Time taken to run: {round((nn2_end - nn2_start)/60,1)} minutes\")"
      ],
      "metadata": {
        "colab": {
          "base_uri": "https://localhost:8080/"
        },
        "id": "ntII1zWjZoDu",
        "outputId": "906fd0c0-d5b0-4db1-b359-635b05f380ab"
      },
      "execution_count": null,
      "outputs": [
        {
          "output_type": "stream",
          "name": "stdout",
          "text": [
            "Epoch 1/100\n",
            "721/721 [==============================] - 3s 4ms/step - loss: 0.0307 - mean_squared_error: 0.0307 - val_loss: 0.2089 - val_mean_squared_error: 0.2089\n",
            "Epoch 2/100\n",
            "721/721 [==============================] - 2s 3ms/step - loss: 0.0294 - mean_squared_error: 0.0294 - val_loss: 0.2105 - val_mean_squared_error: 0.2105\n",
            "Epoch 3/100\n",
            "721/721 [==============================] - 2s 3ms/step - loss: 0.0288 - mean_squared_error: 0.0288 - val_loss: 0.2094 - val_mean_squared_error: 0.2094\n",
            "Epoch 4/100\n",
            "721/721 [==============================] - 3s 4ms/step - loss: 0.0288 - mean_squared_error: 0.0288 - val_loss: 0.2104 - val_mean_squared_error: 0.2104\n",
            "Epoch 5/100\n",
            "721/721 [==============================] - 4s 5ms/step - loss: 0.0287 - mean_squared_error: 0.0287 - val_loss: 0.2085 - val_mean_squared_error: 0.2085\n",
            "Epoch 6/100\n",
            "721/721 [==============================] - 2s 3ms/step - loss: 0.0288 - mean_squared_error: 0.0288 - val_loss: 0.2110 - val_mean_squared_error: 0.2110\n",
            "Epoch 7/100\n",
            "721/721 [==============================] - 3s 4ms/step - loss: 0.0284 - mean_squared_error: 0.0284 - val_loss: 0.2165 - val_mean_squared_error: 0.2165\n",
            "Epoch 8/100\n",
            "721/721 [==============================] - 2s 3ms/step - loss: 0.0296 - mean_squared_error: 0.0296 - val_loss: 0.2121 - val_mean_squared_error: 0.2121\n",
            "Epoch 9/100\n",
            "721/721 [==============================] - 3s 4ms/step - loss: 0.0288 - mean_squared_error: 0.0288 - val_loss: 0.2097 - val_mean_squared_error: 0.2097\n",
            "Epoch 10/100\n",
            "721/721 [==============================] - 4s 5ms/step - loss: 0.0283 - mean_squared_error: 0.0283 - val_loss: 0.2114 - val_mean_squared_error: 0.2114\n",
            "Epoch 11/100\n",
            "721/721 [==============================] - 4s 6ms/step - loss: 0.0282 - mean_squared_error: 0.0282 - val_loss: 0.2118 - val_mean_squared_error: 0.2118\n",
            "Epoch 12/100\n",
            "721/721 [==============================] - 3s 4ms/step - loss: 0.0280 - mean_squared_error: 0.0280 - val_loss: 0.2125 - val_mean_squared_error: 0.2125\n",
            "Epoch 13/100\n",
            "721/721 [==============================] - 3s 4ms/step - loss: 0.0281 - mean_squared_error: 0.0281 - val_loss: 0.2096 - val_mean_squared_error: 0.2096\n",
            "Epoch 14/100\n",
            "721/721 [==============================] - 3s 5ms/step - loss: 0.0280 - mean_squared_error: 0.0280 - val_loss: 0.2113 - val_mean_squared_error: 0.2113\n",
            "Epoch 15/100\n",
            "721/721 [==============================] - 3s 4ms/step - loss: 0.0281 - mean_squared_error: 0.0281 - val_loss: 0.2126 - val_mean_squared_error: 0.2126\n",
            "Epoch 16/100\n",
            "721/721 [==============================] - 3s 4ms/step - loss: 0.0278 - mean_squared_error: 0.0278 - val_loss: 0.2101 - val_mean_squared_error: 0.2101\n",
            "Epoch 17/100\n",
            "721/721 [==============================] - 2s 3ms/step - loss: 0.0281 - mean_squared_error: 0.0281 - val_loss: 0.2118 - val_mean_squared_error: 0.2118\n",
            "Epoch 18/100\n",
            "721/721 [==============================] - 2s 3ms/step - loss: 0.0277 - mean_squared_error: 0.0277 - val_loss: 0.2139 - val_mean_squared_error: 0.2139\n",
            "Epoch 19/100\n",
            "721/721 [==============================] - 3s 5ms/step - loss: 0.0277 - mean_squared_error: 0.0277 - val_loss: 0.2120 - val_mean_squared_error: 0.2120\n",
            "Epoch 20/100\n",
            "721/721 [==============================] - 4s 5ms/step - loss: 0.0277 - mean_squared_error: 0.0277 - val_loss: 0.2136 - val_mean_squared_error: 0.2136\n",
            "Epoch 21/100\n",
            "721/721 [==============================] - 3s 4ms/step - loss: 0.0275 - mean_squared_error: 0.0275 - val_loss: 0.2137 - val_mean_squared_error: 0.2137\n",
            "Epoch 22/100\n",
            "721/721 [==============================] - 2s 3ms/step - loss: 0.0275 - mean_squared_error: 0.0275 - val_loss: 0.2110 - val_mean_squared_error: 0.2110\n",
            "Epoch 23/100\n",
            "721/721 [==============================] - 2s 3ms/step - loss: 0.0275 - mean_squared_error: 0.0275 - val_loss: 0.2143 - val_mean_squared_error: 0.2143\n",
            "Epoch 24/100\n",
            "721/721 [==============================] - 2s 3ms/step - loss: 0.0283 - mean_squared_error: 0.0283 - val_loss: 0.2203 - val_mean_squared_error: 0.2203\n",
            "Epoch 25/100\n",
            "721/721 [==============================] - 3s 4ms/step - loss: 0.0286 - mean_squared_error: 0.0286 - val_loss: 0.2201 - val_mean_squared_error: 0.2201\n",
            "Epoch 26/100\n",
            "721/721 [==============================] - 3s 4ms/step - loss: 0.0306 - mean_squared_error: 0.0306 - val_loss: 0.2667 - val_mean_squared_error: 0.2667\n",
            "Epoch 27/100\n",
            "721/721 [==============================] - 2s 3ms/step - loss: 0.0337 - mean_squared_error: 0.0337 - val_loss: 0.2134 - val_mean_squared_error: 0.2134\n",
            "Epoch 28/100\n",
            "721/721 [==============================] - 2s 3ms/step - loss: 0.0274 - mean_squared_error: 0.0274 - val_loss: 0.2116 - val_mean_squared_error: 0.2116\n",
            "Epoch 29/100\n",
            "721/721 [==============================] - 2s 3ms/step - loss: 0.0268 - mean_squared_error: 0.0268 - val_loss: 0.2161 - val_mean_squared_error: 0.2161\n",
            "Epoch 30/100\n",
            "721/721 [==============================] - 2s 3ms/step - loss: 0.0271 - mean_squared_error: 0.0271 - val_loss: 0.2131 - val_mean_squared_error: 0.2131\n",
            "Epoch 31/100\n",
            "721/721 [==============================] - 2s 3ms/step - loss: 0.0272 - mean_squared_error: 0.0272 - val_loss: 0.2137 - val_mean_squared_error: 0.2137\n",
            "Epoch 32/100\n",
            "721/721 [==============================] - 2s 3ms/step - loss: 0.0273 - mean_squared_error: 0.0273 - val_loss: 0.2144 - val_mean_squared_error: 0.2144\n",
            "Epoch 33/100\n",
            "721/721 [==============================] - 2s 3ms/step - loss: 0.0269 - mean_squared_error: 0.0269 - val_loss: 0.2143 - val_mean_squared_error: 0.2143\n",
            "Epoch 34/100\n",
            "721/721 [==============================] - 2s 3ms/step - loss: 0.0272 - mean_squared_error: 0.0272 - val_loss: 0.2147 - val_mean_squared_error: 0.2147\n",
            "Epoch 35/100\n",
            "721/721 [==============================] - 2s 3ms/step - loss: 0.0271 - mean_squared_error: 0.0271 - val_loss: 0.2159 - val_mean_squared_error: 0.2159\n",
            "Epoch 36/100\n",
            "721/721 [==============================] - 2s 3ms/step - loss: 0.0270 - mean_squared_error: 0.0270 - val_loss: 0.2156 - val_mean_squared_error: 0.2156\n",
            "Epoch 37/100\n",
            "721/721 [==============================] - 2s 3ms/step - loss: 0.0271 - mean_squared_error: 0.0271 - val_loss: 0.2100 - val_mean_squared_error: 0.2100\n",
            "Epoch 38/100\n",
            "721/721 [==============================] - 2s 3ms/step - loss: 0.0273 - mean_squared_error: 0.0273 - val_loss: 0.2184 - val_mean_squared_error: 0.2184\n",
            "Epoch 39/100\n",
            "721/721 [==============================] - 2s 3ms/step - loss: 0.0271 - mean_squared_error: 0.0271 - val_loss: 0.2127 - val_mean_squared_error: 0.2127\n",
            "Epoch 40/100\n",
            "721/721 [==============================] - 2s 3ms/step - loss: 0.0273 - mean_squared_error: 0.0273 - val_loss: 0.2153 - val_mean_squared_error: 0.2153\n",
            "Epoch 41/100\n",
            "721/721 [==============================] - 2s 3ms/step - loss: 0.0271 - mean_squared_error: 0.0271 - val_loss: 0.2146 - val_mean_squared_error: 0.2146\n",
            "Epoch 42/100\n",
            "721/721 [==============================] - 2s 3ms/step - loss: 0.0270 - mean_squared_error: 0.0270 - val_loss: 0.2131 - val_mean_squared_error: 0.2131\n",
            "Epoch 43/100\n",
            "721/721 [==============================] - 2s 3ms/step - loss: 0.0267 - mean_squared_error: 0.0267 - val_loss: 0.2150 - val_mean_squared_error: 0.2150\n",
            "Epoch 44/100\n",
            "721/721 [==============================] - 2s 3ms/step - loss: 0.0267 - mean_squared_error: 0.0267 - val_loss: 0.2120 - val_mean_squared_error: 0.2120\n",
            "Epoch 45/100\n",
            "721/721 [==============================] - 2s 3ms/step - loss: 0.0270 - mean_squared_error: 0.0270 - val_loss: 0.2139 - val_mean_squared_error: 0.2139\n",
            "Epoch 46/100\n",
            "721/721 [==============================] - 2s 3ms/step - loss: 0.0267 - mean_squared_error: 0.0267 - val_loss: 0.2144 - val_mean_squared_error: 0.2144\n",
            "Epoch 47/100\n",
            "721/721 [==============================] - 2s 3ms/step - loss: 0.0268 - mean_squared_error: 0.0268 - val_loss: 0.2162 - val_mean_squared_error: 0.2162\n",
            "Epoch 48/100\n",
            "721/721 [==============================] - 2s 3ms/step - loss: 0.0270 - mean_squared_error: 0.0270 - val_loss: 0.2162 - val_mean_squared_error: 0.2162\n",
            "Epoch 49/100\n",
            "721/721 [==============================] - 2s 3ms/step - loss: 0.0272 - mean_squared_error: 0.0272 - val_loss: 0.2144 - val_mean_squared_error: 0.2144\n",
            "Epoch 50/100\n",
            "721/721 [==============================] - 2s 3ms/step - loss: 0.0271 - mean_squared_error: 0.0271 - val_loss: 0.2180 - val_mean_squared_error: 0.2180\n",
            "Epoch 51/100\n",
            "721/721 [==============================] - 2s 3ms/step - loss: 0.0266 - mean_squared_error: 0.0266 - val_loss: 0.2184 - val_mean_squared_error: 0.2184\n",
            "Epoch 52/100\n",
            "721/721 [==============================] - 3s 4ms/step - loss: 0.0267 - mean_squared_error: 0.0267 - val_loss: 0.2165 - val_mean_squared_error: 0.2165\n",
            "Epoch 53/100\n",
            "721/721 [==============================] - 2s 3ms/step - loss: 0.0265 - mean_squared_error: 0.0265 - val_loss: 0.2183 - val_mean_squared_error: 0.2183\n",
            "Epoch 54/100\n",
            "721/721 [==============================] - 2s 3ms/step - loss: 0.0265 - mean_squared_error: 0.0265 - val_loss: 0.2205 - val_mean_squared_error: 0.2205\n",
            "Epoch 55/100\n",
            "721/721 [==============================] - 2s 3ms/step - loss: 0.0269 - mean_squared_error: 0.0269 - val_loss: 0.2187 - val_mean_squared_error: 0.2187\n",
            "Epoch 56/100\n",
            "721/721 [==============================] - 2s 3ms/step - loss: 0.0265 - mean_squared_error: 0.0265 - val_loss: 0.2178 - val_mean_squared_error: 0.2178\n",
            "Epoch 57/100\n",
            "721/721 [==============================] - 2s 3ms/step - loss: 0.0263 - mean_squared_error: 0.0263 - val_loss: 0.2195 - val_mean_squared_error: 0.2195\n",
            "Epoch 58/100\n",
            "721/721 [==============================] - 2s 3ms/step - loss: 0.0264 - mean_squared_error: 0.0264 - val_loss: 0.2173 - val_mean_squared_error: 0.2173\n",
            "Epoch 59/100\n",
            "721/721 [==============================] - 3s 4ms/step - loss: 0.0266 - mean_squared_error: 0.0266 - val_loss: 0.2188 - val_mean_squared_error: 0.2188\n",
            "Epoch 60/100\n",
            "721/721 [==============================] - 2s 3ms/step - loss: 0.0265 - mean_squared_error: 0.0265 - val_loss: 0.2154 - val_mean_squared_error: 0.2154\n",
            "Epoch 61/100\n",
            "721/721 [==============================] - 2s 3ms/step - loss: 0.0263 - mean_squared_error: 0.0263 - val_loss: 0.2167 - val_mean_squared_error: 0.2167\n",
            "Epoch 62/100\n",
            "721/721 [==============================] - 2s 3ms/step - loss: 0.0265 - mean_squared_error: 0.0265 - val_loss: 0.3880 - val_mean_squared_error: 0.3880\n",
            "Epoch 63/100\n",
            "721/721 [==============================] - 3s 4ms/step - loss: 0.0539 - mean_squared_error: 0.0539 - val_loss: 0.3010 - val_mean_squared_error: 0.3010\n",
            "Epoch 64/100\n",
            "721/721 [==============================] - 3s 3ms/step - loss: 0.0579 - mean_squared_error: 0.0579 - val_loss: 0.2100 - val_mean_squared_error: 0.2100\n",
            "Epoch 65/100\n",
            "721/721 [==============================] - 2s 3ms/step - loss: 0.0331 - mean_squared_error: 0.0331 - val_loss: 0.2071 - val_mean_squared_error: 0.2071\n",
            "Epoch 66/100\n",
            "721/721 [==============================] - 2s 3ms/step - loss: 0.0272 - mean_squared_error: 0.0272 - val_loss: 0.2124 - val_mean_squared_error: 0.2124\n",
            "Epoch 67/100\n",
            "721/721 [==============================] - 2s 3ms/step - loss: 0.0266 - mean_squared_error: 0.0266 - val_loss: 0.2122 - val_mean_squared_error: 0.2122\n",
            "Epoch 68/100\n",
            "721/721 [==============================] - 2s 3ms/step - loss: 0.0265 - mean_squared_error: 0.0265 - val_loss: 0.2117 - val_mean_squared_error: 0.2117\n",
            "Epoch 69/100\n",
            "721/721 [==============================] - 2s 3ms/step - loss: 0.0267 - mean_squared_error: 0.0267 - val_loss: 0.2139 - val_mean_squared_error: 0.2139\n",
            "Epoch 70/100\n",
            "721/721 [==============================] - 2s 3ms/step - loss: 0.0264 - mean_squared_error: 0.0264 - val_loss: 0.2122 - val_mean_squared_error: 0.2122\n",
            "Epoch 71/100\n",
            "721/721 [==============================] - 2s 3ms/step - loss: 0.0265 - mean_squared_error: 0.0265 - val_loss: 0.2117 - val_mean_squared_error: 0.2117\n",
            "Epoch 72/100\n",
            "721/721 [==============================] - 2s 3ms/step - loss: 0.0265 - mean_squared_error: 0.0265 - val_loss: 0.2117 - val_mean_squared_error: 0.2117\n",
            "Epoch 73/100\n",
            "721/721 [==============================] - 2s 3ms/step - loss: 0.0264 - mean_squared_error: 0.0264 - val_loss: 0.2159 - val_mean_squared_error: 0.2159\n",
            "Epoch 74/100\n",
            "721/721 [==============================] - 2s 3ms/step - loss: 0.0262 - mean_squared_error: 0.0262 - val_loss: 0.2145 - val_mean_squared_error: 0.2145\n",
            "Epoch 75/100\n",
            "721/721 [==============================] - 2s 3ms/step - loss: 0.0263 - mean_squared_error: 0.0263 - val_loss: 0.2164 - val_mean_squared_error: 0.2164\n",
            "Epoch 76/100\n",
            "721/721 [==============================] - 2s 3ms/step - loss: 0.0262 - mean_squared_error: 0.0262 - val_loss: 0.2133 - val_mean_squared_error: 0.2133\n",
            "Epoch 77/100\n",
            "721/721 [==============================] - 2s 3ms/step - loss: 0.0266 - mean_squared_error: 0.0266 - val_loss: 0.2134 - val_mean_squared_error: 0.2134\n",
            "Epoch 78/100\n",
            "721/721 [==============================] - 2s 3ms/step - loss: 0.0264 - mean_squared_error: 0.0264 - val_loss: 0.2167 - val_mean_squared_error: 0.2167\n",
            "Epoch 79/100\n",
            "721/721 [==============================] - 2s 3ms/step - loss: 0.0260 - mean_squared_error: 0.0260 - val_loss: 0.2139 - val_mean_squared_error: 0.2139\n",
            "Epoch 80/100\n",
            "721/721 [==============================] - 2s 3ms/step - loss: 0.0261 - mean_squared_error: 0.0261 - val_loss: 0.2198 - val_mean_squared_error: 0.2198\n",
            "Epoch 81/100\n",
            "721/721 [==============================] - 2s 3ms/step - loss: 0.0263 - mean_squared_error: 0.0263 - val_loss: 0.2158 - val_mean_squared_error: 0.2158\n",
            "Epoch 82/100\n",
            "721/721 [==============================] - 2s 3ms/step - loss: 0.0260 - mean_squared_error: 0.0260 - val_loss: 0.2180 - val_mean_squared_error: 0.2180\n",
            "Epoch 83/100\n",
            "721/721 [==============================] - 2s 3ms/step - loss: 0.0259 - mean_squared_error: 0.0259 - val_loss: 0.2196 - val_mean_squared_error: 0.2196\n",
            "Epoch 84/100\n",
            "721/721 [==============================] - 2s 3ms/step - loss: 0.0260 - mean_squared_error: 0.0260 - val_loss: 0.2161 - val_mean_squared_error: 0.2161\n",
            "Epoch 85/100\n",
            "721/721 [==============================] - 2s 3ms/step - loss: 0.0259 - mean_squared_error: 0.0259 - val_loss: 0.2214 - val_mean_squared_error: 0.2214\n",
            "Epoch 86/100\n",
            "721/721 [==============================] - 2s 3ms/step - loss: 0.0265 - mean_squared_error: 0.0265 - val_loss: 0.2147 - val_mean_squared_error: 0.2147\n",
            "Epoch 87/100\n",
            "721/721 [==============================] - 2s 3ms/step - loss: 0.0256 - mean_squared_error: 0.0256 - val_loss: 0.2210 - val_mean_squared_error: 0.2210\n",
            "Epoch 88/100\n",
            "721/721 [==============================] - 4s 5ms/step - loss: 0.0258 - mean_squared_error: 0.0258 - val_loss: 0.2157 - val_mean_squared_error: 0.2157\n",
            "Epoch 89/100\n",
            "721/721 [==============================] - 3s 3ms/step - loss: 0.0256 - mean_squared_error: 0.0256 - val_loss: 0.2173 - val_mean_squared_error: 0.2173\n",
            "Epoch 90/100\n",
            "721/721 [==============================] - 2s 3ms/step - loss: 0.0261 - mean_squared_error: 0.0261 - val_loss: 0.2166 - val_mean_squared_error: 0.2166\n",
            "Epoch 91/100\n",
            "721/721 [==============================] - 2s 3ms/step - loss: 0.0259 - mean_squared_error: 0.0259 - val_loss: 0.2171 - val_mean_squared_error: 0.2171\n",
            "Epoch 92/100\n",
            "721/721 [==============================] - 2s 3ms/step - loss: 0.0261 - mean_squared_error: 0.0261 - val_loss: 0.2157 - val_mean_squared_error: 0.2157\n",
            "Epoch 93/100\n",
            "721/721 [==============================] - 2s 3ms/step - loss: 0.0254 - mean_squared_error: 0.0254 - val_loss: 0.2200 - val_mean_squared_error: 0.2200\n",
            "Epoch 94/100\n",
            "721/721 [==============================] - 2s 3ms/step - loss: 0.0257 - mean_squared_error: 0.0257 - val_loss: 0.2174 - val_mean_squared_error: 0.2174\n",
            "Epoch 95/100\n",
            "721/721 [==============================] - 2s 3ms/step - loss: 0.0255 - mean_squared_error: 0.0255 - val_loss: 0.2199 - val_mean_squared_error: 0.2199\n",
            "Epoch 96/100\n",
            "721/721 [==============================] - 2s 3ms/step - loss: 0.0254 - mean_squared_error: 0.0254 - val_loss: 0.2199 - val_mean_squared_error: 0.2199\n",
            "Epoch 97/100\n",
            "721/721 [==============================] - 2s 3ms/step - loss: 0.0258 - mean_squared_error: 0.0258 - val_loss: 0.2154 - val_mean_squared_error: 0.2154\n",
            "Epoch 98/100\n",
            "721/721 [==============================] - 2s 3ms/step - loss: 0.0256 - mean_squared_error: 0.0256 - val_loss: 0.2162 - val_mean_squared_error: 0.2162\n",
            "Epoch 99/100\n",
            "721/721 [==============================] - 3s 4ms/step - loss: 0.0258 - mean_squared_error: 0.0258 - val_loss: 0.2165 - val_mean_squared_error: 0.2165\n",
            "Epoch 100/100\n",
            "721/721 [==============================] - 3s 4ms/step - loss: 0.0253 - mean_squared_error: 0.0253 - val_loss: 0.2169 - val_mean_squared_error: 0.2169\n",
            "Time taken to run: 4.0 minutes\n"
          ]
        }
      ]
    },
    {
      "cell_type": "code",
      "source": [
        "# Model Evaluation and visualization\n",
        "import matplotlib.pyplot as plt\n",
        "from sklearn.metrics import mean_squared_error, r2_score, mean_absolute_error\n",
        "print(nn2_history)\n",
        "def nn_model_evaluation(model, history, skip_epochs=0, X_train=X_train, X_test=X_test, y_train=y_train, y_test=y_test):\n",
        "    \"\"\"\n",
        "    For a given neural network model that has already been fit, prints for the train and tests sets the MSE and r squared\n",
        "    values, a line graph of the loss in each epoch, and a scatterplot of predicted vs. actual values with a line\n",
        "    representing where predicted = actual values. \n",
        "    \"\"\"\n",
        "\n",
        "    # MSE and r squared values\n",
        "    y_test_pred = model.predict(X_test)\n",
        "    y_train_pred = model.predict(X_train)\n",
        "    print(\"Training MSE:\", round(mean_squared_error(y_train, y_train_pred),4))\n",
        "    print(\"Validation MSE:\", round(mean_squared_error(y_test, y_test_pred),4))\n",
        "\n",
        "    print(\"\\nTraining MAE:\", round(mean_absolute_error(y_train, y_train_pred),4))\n",
        "    print(\"Validation MAE:\", round(mean_absolute_error(y_test, y_test_pred),4))\n",
        "\n",
        "    print(\"\\nTraining r2:\", round(r2_score(y_train, y_train_pred),4))\n",
        "    print(\"Validation r2:\", round(r2_score(y_test, y_test_pred),4))\n",
        "    \n",
        "    # Line graph of losses\n",
        "    model_results = history.history\n",
        "    plt.plot(list(range((skip_epochs+1),len(model_results['loss'])+1)), model_results['loss'][skip_epochs:], label='Train')\n",
        "    plt.plot(list(range((skip_epochs+1),len(model_results['val_loss'])+1)), model_results['val_loss'][skip_epochs:], label='Test', color='green')\n",
        "    plt.legend()\n",
        "    plt.title('Training and test loss at each epoch', fontsize=14)\n",
        "    plt.show()\n",
        "    \n",
        "    # Scatterplot of predicted vs. actual values\n",
        "    fig, (ax1, ax2) = plt.subplots(1, 2, figsize=(12, 4))\n",
        "    fig.suptitle('Predicted vs. actual values', fontsize=14, y=1)\n",
        "    plt.subplots_adjust(top=0.93, wspace=0)\n",
        "    ax1.scatter(y_test, y_test_pred, s=2, alpha=0.7)\n",
        "    ax1.plot(list(range(2,8)), list(range(2,8)), color='black', linestyle='--')\n",
        "    ax1.set_title('Test set')\n",
        "    ax1.set_xlabel('Actual values')\n",
        "    ax1.set_ylabel('Predicted values')\n",
        "    \n",
        "    ax2.scatter(y_train, y_train_pred, s=2, alpha=0.7)\n",
        "    ax2.plot(list(range(2,8)), list(range(2,8)), color='black', linestyle='--')\n",
        "    ax2.set_title('Train set')\n",
        "    ax2.set_xlabel('Actual values')\n",
        "    ax2.set_ylabel('')\n",
        "    ax2.set_yticklabels(labels='')\n",
        "    \n",
        "    plt.show()\n",
        "\n",
        "nn_model_evaluation(nn2, nn2_history)"
      ],
      "metadata": {
        "colab": {
          "base_uri": "https://localhost:8080/",
          "height": 782
        },
        "id": "DCBSg3EvZ_60",
        "outputId": "c645f0e1-7e19-4927-bb63-62d2463840f0"
      },
      "execution_count": null,
      "outputs": [
        {
          "output_type": "stream",
          "name": "stdout",
          "text": [
            "<keras.callbacks.History object at 0x7f06602e8250>\n",
            "1602/1602 [==============================] - 2s 1ms/step\n",
            "6408/6408 [==============================] - 11s 2ms/step\n",
            "Training MSE: 0.0428\n",
            "Validation MSE: 0.2125\n",
            "\n",
            "Training MAE: 0.1396\n",
            "Validation MAE: 0.3434\n",
            "\n",
            "Training r2: 0.9183\n",
            "Validation r2: 0.5978\n"
          ]
        },
        {
          "output_type": "display_data",
          "data": {
            "text/plain": [
              "<Figure size 432x288 with 1 Axes>"
            ],
            "image/png": "[encoded data removed]"
          },
          "metadata": {
            "needs_background": "light"
          }
        },
        {
          "output_type": "display_data",
          "data": {
            "text/plain": [
              "<Figure size 864x288 with 2 Axes>"
            ],
            "image/png": "[encoded data removed]"
          },
          "metadata": {
            "needs_background": "light"
          }
        }
      ]
    },
    {
      "cell_type": "code",
      "source": [
        "import shap\n",
        "# explainer = shap.DeepExplainer(nn2, X_train)\n",
        "# shap_values = explainer.shap_values(X_test)\n",
        "# shap.summary_plot(shap_values[0], plot_type = 'bar', feature_names = X.columns)\n",
        "\n",
        "# Fits the explainer\n",
        "explainer = shap.Explainer(nn2.predict, X_test)\n",
        "# Calculates the SHAP values - It takes some time\n",
        "shap_values = explainer(X_test[:100]).values\n",
        "shap.summary_plot(shap_values[0], plot_type = 'bar', feature_names = X.columns)"
      ],
      "metadata": {
        "id": "TSejwhsnaBIg",
        "colab": {
          "base_uri": "https://localhost:8080/",
          "height": 1000
        },
        "outputId": "55d28fa2-d6d4-48a5-c9a9-a6a2efa762e1"
      },
      "execution_count": null,
      "outputs": [
        {
          "output_type": "stream",
          "name": "stdout",
          "text": [
            "278/278 [==============================] - 0s 2ms/step\n",
            "278/278 [==============================] - 0s 2ms/step\n",
            "310/310 [==============================] - 0s 2ms/step\n",
            "310/310 [==============================] - 0s 1ms/step\n",
            "229/229 [==============================] - 0s 1ms/step\n",
            "248/248 [==============================] - 0s 2ms/step\n",
            "248/248 [==============================] - 0s 1ms/step\n",
            "191/191 [==============================] - 0s 1ms/step\n",
            "263/263 [==============================] - 0s 1ms/step\n",
            "263/263 [==============================] - 0s 1ms/step\n",
            "212/212 [==============================] - 0s 2ms/step\n",
            "257/257 [==============================] - 0s 1ms/step\n",
            "257/257 [==============================] - 0s 1ms/step\n",
            "206/206 [==============================] - 0s 1ms/step\n",
            "244/244 [==============================] - 0s 1ms/step\n",
            "244/244 [==============================] - 0s 2ms/step\n",
            "202/202 [==============================] - 0s 1ms/step\n",
            "249/249 [==============================] - 0s 1ms/step\n",
            "249/249 [==============================] - 0s 1ms/step\n",
            "200/200 [==============================] - 0s 1ms/step\n"
          ]
        },
        {
          "output_type": "stream",
          "name": "stderr",
          "text": [
            "\rPermutation explainer:   7%|▋         | 7/100 [00:00<?, ?it/s]"
          ]
        },
        {
          "output_type": "stream",
          "name": "stdout",
          "text": [
            "276/276 [==============================] - 0s 2ms/step\n",
            "276/276 [==============================] - 0s 1ms/step\n",
            "216/216 [==============================] - 0s 2ms/step\n"
          ]
        },
        {
          "output_type": "stream",
          "name": "stderr",
          "text": [
            "\rPermutation explainer:   9%|▉         | 9/100 [00:12<01:23,  1.09it/s]"
          ]
        },
        {
          "output_type": "stream",
          "name": "stdout",
          "text": [
            "277/277 [==============================] - 0s 1ms/step\n",
            "277/277 [==============================] - 0s 1ms/step\n",
            "214/214 [==============================] - 0s 2ms/step\n"
          ]
        },
        {
          "output_type": "stream",
          "name": "stderr",
          "text": [
            "\rPermutation explainer:  10%|█         | 10/100 [00:14<02:05,  1.40s/it]"
          ]
        },
        {
          "output_type": "stream",
          "name": "stdout",
          "text": [
            "246/246 [==============================] - 0s 2ms/step\n",
            "246/246 [==============================] - 0s 2ms/step\n",
            "196/196 [==============================] - 0s 2ms/step\n"
          ]
        },
        {
          "output_type": "stream",
          "name": "stderr",
          "text": [
            "\rPermutation explainer:  11%|█         | 11/100 [00:16<02:03,  1.39s/it]"
          ]
        },
        {
          "output_type": "stream",
          "name": "stdout",
          "text": [
            "306/306 [==============================] - 0s 1ms/step\n",
            "306/306 [==============================] - 0s 2ms/step\n",
            "236/236 [==============================] - 0s 2ms/step\n"
          ]
        },
        {
          "output_type": "stream",
          "name": "stderr",
          "text": [
            "\rPermutation explainer:  12%|█▏        | 12/100 [00:18<02:13,  1.52s/it]"
          ]
        },
        {
          "output_type": "stream",
          "name": "stdout",
          "text": [
            "266/266 [==============================] - 0s 1ms/step\n",
            "266/266 [==============================] - 0s 1ms/step\n",
            "206/206 [==============================] - 0s 1ms/step\n"
          ]
        },
        {
          "output_type": "stream",
          "name": "stderr",
          "text": [
            "\rPermutation explainer:  13%|█▎        | 13/100 [00:19<02:22,  1.64s/it]"
          ]
        },
        {
          "output_type": "stream",
          "name": "stdout",
          "text": [
            "232/232 [==============================] - 0s 1ms/step\n",
            "232/232 [==============================] - 0s 2ms/step\n",
            "188/188 [==============================] - 0s 2ms/step\n"
          ]
        },
        {
          "output_type": "stream",
          "name": "stderr",
          "text": [
            "\rPermutation explainer:  14%|█▍        | 14/100 [00:21<02:26,  1.70s/it]"
          ]
        },
        {
          "output_type": "stream",
          "name": "stdout",
          "text": [
            "251/251 [==============================] - 0s 1ms/step\n",
            "251/251 [==============================] - 0s 2ms/step\n",
            "195/195 [==============================] - 0s 1ms/step\n"
          ]
        },
        {
          "output_type": "stream",
          "name": "stderr",
          "text": [
            "\rPermutation explainer:  15%|█▌        | 15/100 [00:23<02:26,  1.72s/it]"
          ]
        },
        {
          "output_type": "stream",
          "name": "stdout",
          "text": [
            "264/264 [==============================] - 0s 1ms/step\n",
            "264/264 [==============================] - 0s 1ms/step\n",
            "206/206 [==============================] - 0s 1ms/step\n"
          ]
        },
        {
          "output_type": "stream",
          "name": "stderr",
          "text": [
            "\rPermutation explainer:  16%|█▌        | 16/100 [00:25<02:33,  1.83s/it]"
          ]
        },
        {
          "output_type": "stream",
          "name": "stdout",
          "text": [
            "274/274 [==============================] - 0s 1ms/step\n",
            "274/274 [==============================] - 0s 1ms/step\n",
            "216/216 [==============================] - 0s 2ms/step\n"
          ]
        },
        {
          "output_type": "stream",
          "name": "stderr",
          "text": [
            "\rPermutation explainer:  17%|█▋        | 17/100 [00:27<02:22,  1.71s/it]"
          ]
        },
        {
          "output_type": "stream",
          "name": "stdout",
          "text": [
            "287/287 [==============================] - 0s 1ms/step\n",
            "287/287 [==============================] - 0s 1ms/step\n",
            "222/222 [==============================] - 0s 1ms/step\n"
          ]
        },
        {
          "output_type": "stream",
          "name": "stderr",
          "text": [
            "\rPermutation explainer:  18%|█▊        | 18/100 [00:28<02:25,  1.78s/it]"
          ]
        },
        {
          "output_type": "stream",
          "name": "stdout",
          "text": [
            "279/279 [==============================] - 0s 1ms/step\n",
            "279/279 [==============================] - 0s 1ms/step\n",
            "213/213 [==============================] - 0s 1ms/step\n"
          ]
        },
        {
          "output_type": "stream",
          "name": "stderr",
          "text": [
            "\rPermutation explainer:  19%|█▉        | 19/100 [00:30<02:20,  1.73s/it]"
          ]
        },
        {
          "output_type": "stream",
          "name": "stdout",
          "text": [
            "284/284 [==============================] - 0s 1ms/step\n",
            "284/284 [==============================] - 0s 1ms/step\n",
            "220/220 [==============================] - 0s 1ms/step\n"
          ]
        },
        {
          "output_type": "stream",
          "name": "stderr",
          "text": [
            "\rPermutation explainer:  20%|██        | 20/100 [00:32<02:19,  1.74s/it]"
          ]
        },
        {
          "output_type": "stream",
          "name": "stdout",
          "text": [
            "288/288 [==============================] - 0s 1ms/step\n",
            "288/288 [==============================] - 0s 1ms/step\n",
            "221/221 [==============================] - 0s 1ms/step\n"
          ]
        },
        {
          "output_type": "stream",
          "name": "stderr",
          "text": [
            "\rPermutation explainer:  21%|██        | 21/100 [00:34<02:24,  1.83s/it]"
          ]
        },
        {
          "output_type": "stream",
          "name": "stdout",
          "text": [
            "293/293 [==============================] - 0s 1ms/step\n",
            "293/293 [==============================] - 0s 1ms/step\n",
            "220/220 [==============================] - 0s 1ms/step\n"
          ]
        },
        {
          "output_type": "stream",
          "name": "stderr",
          "text": [
            "\rPermutation explainer:  22%|██▏       | 22/100 [00:36<02:19,  1.78s/it]"
          ]
        },
        {
          "output_type": "stream",
          "name": "stdout",
          "text": [
            "294/294 [==============================] - 0s 1ms/step\n",
            "294/294 [==============================] - 0s 1ms/step\n",
            "220/220 [==============================] - 0s 1ms/step\n"
          ]
        },
        {
          "output_type": "stream",
          "name": "stderr",
          "text": [
            "\rPermutation explainer:  23%|██▎       | 23/100 [00:37<02:14,  1.75s/it]"
          ]
        },
        {
          "output_type": "stream",
          "name": "stdout",
          "text": [
            "300/300 [==============================] - 0s 2ms/step\n",
            "300/300 [==============================] - 0s 1ms/step\n",
            "221/221 [==============================] - 0s 2ms/step\n"
          ]
        },
        {
          "output_type": "stream",
          "name": "stderr",
          "text": [
            "\rPermutation explainer:  24%|██▍       | 24/100 [00:39<02:14,  1.77s/it]"
          ]
        },
        {
          "output_type": "stream",
          "name": "stdout",
          "text": [
            "305/305 [==============================] - 0s 1ms/step\n",
            "305/305 [==============================] - 0s 1ms/step\n",
            "229/229 [==============================] - 0s 1ms/step\n"
          ]
        },
        {
          "output_type": "stream",
          "name": "stderr",
          "text": [
            "\rPermutation explainer:  25%|██▌       | 25/100 [00:41<02:07,  1.70s/it]"
          ]
        },
        {
          "output_type": "stream",
          "name": "stdout",
          "text": [
            "270/270 [==============================] - 0s 1ms/step\n",
            "270/270 [==============================] - 0s 2ms/step\n",
            "209/209 [==============================] - 0s 1ms/step\n"
          ]
        },
        {
          "output_type": "stream",
          "name": "stderr",
          "text": [
            "\rPermutation explainer:  26%|██▌       | 26/100 [00:43<02:13,  1.81s/it]"
          ]
        },
        {
          "output_type": "stream",
          "name": "stdout",
          "text": [
            "275/275 [==============================] - 0s 2ms/step\n",
            "275/275 [==============================] - 0s 2ms/step\n",
            "208/208 [==============================] - 0s 1ms/step\n"
          ]
        },
        {
          "output_type": "stream",
          "name": "stderr",
          "text": [
            "\rPermutation explainer:  27%|██▋       | 27/100 [00:44<02:08,  1.75s/it]"
          ]
        },
        {
          "output_type": "stream",
          "name": "stdout",
          "text": [
            "254/254 [==============================] - 0s 1ms/step\n",
            "254/254 [==============================] - 0s 1ms/step\n",
            "203/203 [==============================] - 0s 1ms/step\n"
          ]
        },
        {
          "output_type": "stream",
          "name": "stderr",
          "text": [
            "\rPermutation explainer:  28%|██▊       | 28/100 [00:46<02:03,  1.72s/it]"
          ]
        },
        {
          "output_type": "stream",
          "name": "stdout",
          "text": [
            "238/238 [==============================] - 0s 1ms/step\n",
            "238/238 [==============================] - 0s 1ms/step\n",
            "191/191 [==============================] - 0s 1ms/step\n"
          ]
        },
        {
          "output_type": "stream",
          "name": "stderr",
          "text": [
            "\rPermutation explainer:  29%|██▉       | 29/100 [00:48<01:59,  1.69s/it]"
          ]
        },
        {
          "output_type": "stream",
          "name": "stdout",
          "text": [
            "291/291 [==============================] - 0s 2ms/step\n",
            "291/291 [==============================] - 0s 1ms/step\n",
            "221/221 [==============================] - 0s 1ms/step\n"
          ]
        },
        {
          "output_type": "stream",
          "name": "stderr",
          "text": [
            "\rPermutation explainer:  30%|███       | 30/100 [00:49<01:57,  1.68s/it]"
          ]
        },
        {
          "output_type": "stream",
          "name": "stdout",
          "text": [
            "305/305 [==============================] - 0s 1ms/step\n",
            "305/305 [==============================] - 0s 1ms/step\n",
            "227/227 [==============================] - 0s 1ms/step\n"
          ]
        },
        {
          "output_type": "stream",
          "name": "stderr",
          "text": [
            "\rPermutation explainer:  31%|███       | 31/100 [00:51<02:03,  1.80s/it]"
          ]
        },
        {
          "output_type": "stream",
          "name": "stdout",
          "text": [
            "270/270 [==============================] - 0s 1ms/step\n",
            "270/270 [==============================] - 0s 1ms/step\n",
            "207/207 [==============================] - 0s 1ms/step\n"
          ]
        },
        {
          "output_type": "stream",
          "name": "stderr",
          "text": [
            "\rPermutation explainer:  32%|███▏      | 32/100 [00:53<01:55,  1.69s/it]"
          ]
        },
        {
          "output_type": "stream",
          "name": "stdout",
          "text": [
            "255/255 [==============================] - 0s 1ms/step\n",
            "255/255 [==============================] - 0s 2ms/step\n",
            "197/197 [==============================] - 0s 1ms/step\n"
          ]
        },
        {
          "output_type": "stream",
          "name": "stderr",
          "text": [
            "\rPermutation explainer:  33%|███▎      | 33/100 [00:55<01:56,  1.74s/it]"
          ]
        },
        {
          "output_type": "stream",
          "name": "stdout",
          "text": [
            "277/277 [==============================] - 0s 2ms/step\n",
            "277/277 [==============================] - 0s 1ms/step\n",
            "211/211 [==============================] - 0s 1ms/step\n"
          ]
        },
        {
          "output_type": "stream",
          "name": "stderr",
          "text": [
            "\rPermutation explainer:  34%|███▍      | 34/100 [00:57<02:01,  1.84s/it]"
          ]
        },
        {
          "output_type": "stream",
          "name": "stdout",
          "text": [
            "261/261 [==============================] - 0s 2ms/step\n",
            "261/261 [==============================] - 0s 1ms/step\n",
            "203/203 [==============================] - 0s 1ms/step\n"
          ]
        },
        {
          "output_type": "stream",
          "name": "stderr",
          "text": [
            "\rPermutation explainer:  35%|███▌      | 35/100 [00:59<02:03,  1.90s/it]"
          ]
        },
        {
          "output_type": "stream",
          "name": "stdout",
          "text": [
            "292/292 [==============================] - 1s 2ms/step\n",
            "292/292 [==============================] - 1s 2ms/step\n",
            "222/222 [==============================] - 1s 2ms/step\n"
          ]
        },
        {
          "output_type": "stream",
          "name": "stderr",
          "text": [
            "\rPermutation explainer:  36%|███▌      | 36/100 [01:01<02:11,  2.06s/it]"
          ]
        },
        {
          "output_type": "stream",
          "name": "stdout",
          "text": [
            "262/262 [==============================] - 1s 2ms/step\n",
            "262/262 [==============================] - 0s 2ms/step\n",
            "205/205 [==============================] - 0s 1ms/step\n"
          ]
        },
        {
          "output_type": "stream",
          "name": "stderr",
          "text": [
            "\rPermutation explainer:  37%|███▋      | 37/100 [01:03<02:09,  2.05s/it]"
          ]
        },
        {
          "output_type": "stream",
          "name": "stdout",
          "text": [
            "312/312 [==============================] - 0s 1ms/step\n",
            "312/312 [==============================] - 1s 2ms/step\n",
            "236/236 [==============================] - 0s 1ms/step\n"
          ]
        },
        {
          "output_type": "stream",
          "name": "stderr",
          "text": [
            "\rPermutation explainer:  38%|███▊      | 38/100 [01:05<01:59,  1.93s/it]"
          ]
        },
        {
          "output_type": "stream",
          "name": "stdout",
          "text": [
            "276/276 [==============================] - 0s 1ms/step\n",
            "276/276 [==============================] - 0s 2ms/step\n",
            "220/220 [==============================] - 0s 2ms/step\n"
          ]
        },
        {
          "output_type": "stream",
          "name": "stderr",
          "text": [
            "\rPermutation explainer:  39%|███▉      | 39/100 [01:07<01:53,  1.87s/it]"
          ]
        },
        {
          "output_type": "stream",
          "name": "stdout",
          "text": [
            "289/289 [==============================] - 0s 1ms/step\n",
            "289/289 [==============================] - 0s 1ms/step\n",
            "218/218 [==============================] - 0s 2ms/step\n"
          ]
        },
        {
          "output_type": "stream",
          "name": "stderr",
          "text": [
            "\rPermutation explainer:  40%|████      | 40/100 [01:08<01:53,  1.89s/it]"
          ]
        },
        {
          "output_type": "stream",
          "name": "stdout",
          "text": [
            "264/264 [==============================] - 0s 2ms/step\n",
            "264/264 [==============================] - 0s 1ms/step\n",
            "207/207 [==============================] - 0s 1ms/step\n"
          ]
        },
        {
          "output_type": "stream",
          "name": "stderr",
          "text": [
            "\rPermutation explainer:  41%|████      | 41/100 [01:10<01:47,  1.83s/it]"
          ]
        },
        {
          "output_type": "stream",
          "name": "stdout",
          "text": [
            "301/301 [==============================] - 0s 1ms/step\n",
            "301/301 [==============================] - 0s 1ms/step\n",
            "218/218 [==============================] - 0s 1ms/step\n"
          ]
        },
        {
          "output_type": "stream",
          "name": "stderr",
          "text": [
            "\rPermutation explainer:  42%|████▏     | 42/100 [01:12<01:41,  1.74s/it]"
          ]
        },
        {
          "output_type": "stream",
          "name": "stdout",
          "text": [
            "244/244 [==============================] - 0s 1ms/step\n",
            "244/244 [==============================] - 0s 1ms/step\n",
            "198/198 [==============================] - 0s 1ms/step\n"
          ]
        },
        {
          "output_type": "stream",
          "name": "stderr",
          "text": [
            "\rPermutation explainer:  43%|████▎     | 43/100 [01:13<01:36,  1.69s/it]"
          ]
        },
        {
          "output_type": "stream",
          "name": "stdout",
          "text": [
            "286/286 [==============================] - 0s 1ms/step\n",
            "286/286 [==============================] - 0s 2ms/step\n",
            "222/222 [==============================] - 0s 1ms/step\n"
          ]
        },
        {
          "output_type": "stream",
          "name": "stderr",
          "text": [
            "\rPermutation explainer:  44%|████▍     | 44/100 [01:15<01:40,  1.80s/it]"
          ]
        },
        {
          "output_type": "stream",
          "name": "stdout",
          "text": [
            "279/279 [==============================] - 0s 2ms/step\n",
            "279/279 [==============================] - 0s 2ms/step\n",
            "211/211 [==============================] - 0s 2ms/step\n"
          ]
        },
        {
          "output_type": "stream",
          "name": "stderr",
          "text": [
            "\rPermutation explainer:  45%|████▌     | 45/100 [01:17<01:36,  1.76s/it]"
          ]
        },
        {
          "output_type": "stream",
          "name": "stdout",
          "text": [
            "246/246 [==============================] - 0s 2ms/step\n",
            "246/246 [==============================] - 0s 1ms/step\n",
            "205/205 [==============================] - 0s 1ms/step\n"
          ]
        },
        {
          "output_type": "stream",
          "name": "stderr",
          "text": [
            "\rPermutation explainer:  46%|████▌     | 46/100 [01:19<01:36,  1.79s/it]"
          ]
        },
        {
          "output_type": "stream",
          "name": "stdout",
          "text": [
            "275/275 [==============================] - 0s 1ms/step\n",
            "275/275 [==============================] - 0s 1ms/step\n",
            "212/212 [==============================] - 0s 2ms/step\n"
          ]
        },
        {
          "output_type": "stream",
          "name": "stderr",
          "text": [
            "\rPermutation explainer:  47%|████▋     | 47/100 [01:20<01:32,  1.74s/it]"
          ]
        },
        {
          "output_type": "stream",
          "name": "stdout",
          "text": [
            "246/246 [==============================] - 0s 1ms/step\n",
            "246/246 [==============================] - 0s 2ms/step\n",
            "195/195 [==============================] - 0s 1ms/step\n"
          ]
        },
        {
          "output_type": "stream",
          "name": "stderr",
          "text": [
            "\rPermutation explainer:  48%|████▊     | 48/100 [01:22<01:27,  1.69s/it]"
          ]
        },
        {
          "output_type": "stream",
          "name": "stdout",
          "text": [
            "260/260 [==============================] - 0s 2ms/step\n",
            "260/260 [==============================] - 0s 1ms/step\n",
            "203/203 [==============================] - 0s 1ms/step\n"
          ]
        },
        {
          "output_type": "stream",
          "name": "stderr",
          "text": [
            "\rPermutation explainer:  49%|████▉     | 49/100 [01:24<01:27,  1.71s/it]"
          ]
        },
        {
          "output_type": "stream",
          "name": "stdout",
          "text": [
            "283/283 [==============================] - 0s 1ms/step\n",
            "283/283 [==============================] - 0s 2ms/step\n",
            "214/214 [==============================] - 0s 1ms/step\n"
          ]
        },
        {
          "output_type": "stream",
          "name": "stderr",
          "text": [
            "\rPermutation explainer:  50%|█████     | 50/100 [01:26<01:27,  1.76s/it]"
          ]
        },
        {
          "output_type": "stream",
          "name": "stdout",
          "text": [
            "306/306 [==============================] - 0s 1ms/step\n",
            "306/306 [==============================] - 0s 1ms/step\n",
            "230/230 [==============================] - 0s 1ms/step\n"
          ]
        },
        {
          "output_type": "stream",
          "name": "stderr",
          "text": [
            "\rPermutation explainer:  51%|█████     | 51/100 [01:27<01:26,  1.77s/it]"
          ]
        },
        {
          "output_type": "stream",
          "name": "stdout",
          "text": [
            "242/242 [==============================] - 0s 1ms/step\n",
            "242/242 [==============================] - 0s 1ms/step\n",
            "192/192 [==============================] - 0s 1ms/step\n"
          ]
        },
        {
          "output_type": "stream",
          "name": "stderr",
          "text": [
            "\rPermutation explainer:  52%|█████▏    | 52/100 [01:29<01:18,  1.63s/it]"
          ]
        },
        {
          "output_type": "stream",
          "name": "stdout",
          "text": [
            "264/264 [==============================] - 0s 1ms/step\n",
            "264/264 [==============================] - 0s 1ms/step\n",
            "206/206 [==============================] - 0s 1ms/step\n"
          ]
        },
        {
          "output_type": "stream",
          "name": "stderr",
          "text": [
            "\rPermutation explainer:  53%|█████▎    | 53/100 [01:30<01:15,  1.62s/it]"
          ]
        },
        {
          "output_type": "stream",
          "name": "stdout",
          "text": [
            "268/268 [==============================] - 0s 1ms/step\n",
            "268/268 [==============================] - 0s 1ms/step\n",
            "210/210 [==============================] - 0s 2ms/step\n"
          ]
        },
        {
          "output_type": "stream",
          "name": "stderr",
          "text": [
            "\rPermutation explainer:  54%|█████▍    | 54/100 [01:32<01:11,  1.56s/it]"
          ]
        },
        {
          "output_type": "stream",
          "name": "stdout",
          "text": [
            "267/267 [==============================] - 0s 1ms/step\n",
            "267/267 [==============================] - 0s 2ms/step\n",
            "208/208 [==============================] - 0s 1ms/step\n"
          ]
        },
        {
          "output_type": "stream",
          "name": "stderr",
          "text": [
            "\rPermutation explainer:  55%|█████▌    | 55/100 [01:34<01:14,  1.66s/it]"
          ]
        },
        {
          "output_type": "stream",
          "name": "stdout",
          "text": [
            "290/290 [==============================] - 0s 2ms/step\n",
            "290/290 [==============================] - 0s 2ms/step\n",
            "219/219 [==============================] - 0s 1ms/step\n"
          ]
        },
        {
          "output_type": "stream",
          "name": "stderr",
          "text": [
            "\rPermutation explainer:  56%|█████▌    | 56/100 [01:36<01:16,  1.74s/it]"
          ]
        },
        {
          "output_type": "stream",
          "name": "stdout",
          "text": [
            "277/277 [==============================] - 0s 1ms/step\n",
            "277/277 [==============================] - 0s 2ms/step\n",
            "211/211 [==============================] - 0s 1ms/step\n"
          ]
        },
        {
          "output_type": "stream",
          "name": "stderr",
          "text": [
            "\rPermutation explainer:  57%|█████▋    | 57/100 [01:38<01:18,  1.84s/it]"
          ]
        },
        {
          "output_type": "stream",
          "name": "stdout",
          "text": [
            "268/268 [==============================] - 0s 1ms/step\n",
            "268/268 [==============================] - 0s 1ms/step\n",
            "200/200 [==============================] - 0s 2ms/step\n"
          ]
        },
        {
          "output_type": "stream",
          "name": "stderr",
          "text": [
            "\rPermutation explainer:  58%|█████▊    | 58/100 [01:39<01:15,  1.80s/it]"
          ]
        },
        {
          "output_type": "stream",
          "name": "stdout",
          "text": [
            "269/269 [==============================] - 0s 1ms/step\n",
            "269/269 [==============================] - 0s 1ms/step\n",
            "211/211 [==============================] - 0s 1ms/step\n"
          ]
        },
        {
          "output_type": "stream",
          "name": "stderr",
          "text": [
            "\rPermutation explainer:  59%|█████▉    | 59/100 [01:41<01:08,  1.68s/it]"
          ]
        },
        {
          "output_type": "stream",
          "name": "stdout",
          "text": [
            "294/294 [==============================] - 0s 1ms/step\n",
            "294/294 [==============================] - 0s 1ms/step\n",
            "218/218 [==============================] - 0s 1ms/step\n"
          ]
        },
        {
          "output_type": "stream",
          "name": "stderr",
          "text": [
            "\rPermutation explainer:  60%|██████    | 60/100 [01:43<01:09,  1.75s/it]"
          ]
        },
        {
          "output_type": "stream",
          "name": "stdout",
          "text": [
            "261/261 [==============================] - 0s 1ms/step\n",
            "261/261 [==============================] - 0s 1ms/step\n",
            "208/208 [==============================] - 0s 1ms/step\n"
          ]
        },
        {
          "output_type": "stream",
          "name": "stderr",
          "text": [
            "\rPermutation explainer:  61%|██████    | 61/100 [01:45<01:09,  1.79s/it]"
          ]
        },
        {
          "output_type": "stream",
          "name": "stdout",
          "text": [
            "256/256 [==============================] - 0s 1ms/step\n",
            "256/256 [==============================] - 0s 1ms/step\n",
            "203/203 [==============================] - 0s 1ms/step\n"
          ]
        },
        {
          "output_type": "stream",
          "name": "stderr",
          "text": [
            "\rPermutation explainer:  62%|██████▏   | 62/100 [01:46<01:07,  1.78s/it]"
          ]
        },
        {
          "output_type": "stream",
          "name": "stdout",
          "text": [
            "263/263 [==============================] - 0s 1ms/step\n",
            "263/263 [==============================] - 0s 1ms/step\n",
            "208/208 [==============================] - 0s 1ms/step\n"
          ]
        },
        {
          "output_type": "stream",
          "name": "stderr",
          "text": [
            "\rPermutation explainer:  63%|██████▎   | 63/100 [01:48<01:04,  1.75s/it]"
          ]
        },
        {
          "output_type": "stream",
          "name": "stdout",
          "text": [
            "272/272 [==============================] - 0s 2ms/step\n",
            "272/272 [==============================] - 0s 2ms/step\n",
            "210/210 [==============================] - 0s 2ms/step\n"
          ]
        },
        {
          "output_type": "stream",
          "name": "stderr",
          "text": [
            "\rPermutation explainer:  64%|██████▍   | 64/100 [01:50<01:06,  1.85s/it]"
          ]
        },
        {
          "output_type": "stream",
          "name": "stdout",
          "text": [
            "274/274 [==============================] - 0s 1ms/step\n",
            "274/274 [==============================] - 0s 1ms/step\n",
            "212/212 [==============================] - 0s 1ms/step\n"
          ]
        },
        {
          "output_type": "stream",
          "name": "stderr",
          "text": [
            "\rPermutation explainer:  65%|██████▌   | 65/100 [01:52<01:04,  1.86s/it]"
          ]
        },
        {
          "output_type": "stream",
          "name": "stdout",
          "text": [
            "258/258 [==============================] - 0s 1ms/step\n",
            "258/258 [==============================] - 0s 1ms/step\n",
            "207/207 [==============================] - 0s 1ms/step\n"
          ]
        },
        {
          "output_type": "stream",
          "name": "stderr",
          "text": [
            "\rPermutation explainer:  66%|██████▌   | 66/100 [01:54<01:05,  1.92s/it]"
          ]
        },
        {
          "output_type": "stream",
          "name": "stdout",
          "text": [
            "248/248 [==============================] - 0s 1ms/step\n",
            "248/248 [==============================] - 0s 2ms/step\n",
            "200/200 [==============================] - 0s 1ms/step\n"
          ]
        },
        {
          "output_type": "stream",
          "name": "stderr",
          "text": [
            "\rPermutation explainer:  67%|██████▋   | 67/100 [01:56<01:02,  1.90s/it]"
          ]
        },
        {
          "output_type": "stream",
          "name": "stdout",
          "text": [
            "268/268 [==============================] - 0s 1ms/step\n",
            "268/268 [==============================] - 0s 1ms/step\n",
            "212/212 [==============================] - 0s 1ms/step\n"
          ]
        },
        {
          "output_type": "stream",
          "name": "stderr",
          "text": [
            "\rPermutation explainer:  68%|██████▊   | 68/100 [01:57<00:57,  1.81s/it]"
          ]
        },
        {
          "output_type": "stream",
          "name": "stdout",
          "text": [
            "263/263 [==============================] - 0s 1ms/step\n",
            "263/263 [==============================] - 0s 1ms/step\n",
            "210/210 [==============================] - 0s 1ms/step\n"
          ]
        },
        {
          "output_type": "stream",
          "name": "stderr",
          "text": [
            "\rPermutation explainer:  69%|██████▉   | 69/100 [02:00<00:58,  1.88s/it]"
          ]
        },
        {
          "output_type": "stream",
          "name": "stdout",
          "text": [
            "258/258 [==============================] - 0s 2ms/step\n",
            "258/258 [==============================] - 1s 2ms/step\n",
            "204/204 [==============================] - 1s 5ms/step\n"
          ]
        },
        {
          "output_type": "stream",
          "name": "stderr",
          "text": [
            "\rPermutation explainer:  70%|███████   | 70/100 [02:02<01:06,  2.21s/it]"
          ]
        },
        {
          "output_type": "stream",
          "name": "stdout",
          "text": [
            "289/289 [==============================] - 1s 3ms/step\n",
            "289/289 [==============================] - 1s 3ms/step\n",
            "217/217 [==============================] - 1s 2ms/step\n"
          ]
        },
        {
          "output_type": "stream",
          "name": "stderr",
          "text": [
            "\rPermutation explainer:  71%|███████   | 71/100 [02:06<01:16,  2.65s/it]"
          ]
        },
        {
          "output_type": "stream",
          "name": "stdout",
          "text": [
            "257/257 [==============================] - 0s 1ms/step\n",
            "257/257 [==============================] - 0s 1ms/step\n",
            "202/202 [==============================] - 0s 1ms/step\n"
          ]
        },
        {
          "output_type": "stream",
          "name": "stderr",
          "text": [
            "\rPermutation explainer:  72%|███████▏  | 72/100 [02:08<01:07,  2.41s/it]"
          ]
        },
        {
          "output_type": "stream",
          "name": "stdout",
          "text": [
            "281/281 [==============================] - 0s 1ms/step\n",
            "281/281 [==============================] - 0s 1ms/step\n",
            "217/217 [==============================] - 0s 1ms/step\n"
          ]
        },
        {
          "output_type": "stream",
          "name": "stderr",
          "text": [
            "\rPermutation explainer:  73%|███████▎  | 73/100 [02:10<01:02,  2.31s/it]"
          ]
        },
        {
          "output_type": "stream",
          "name": "stdout",
          "text": [
            "258/258 [==============================] - 0s 1ms/step\n",
            "258/258 [==============================] - 0s 1ms/step\n",
            "200/200 [==============================] - 0s 1ms/step\n"
          ]
        },
        {
          "output_type": "stream",
          "name": "stderr",
          "text": [
            "\rPermutation explainer:  74%|███████▍  | 74/100 [02:12<00:58,  2.23s/it]"
          ]
        },
        {
          "output_type": "stream",
          "name": "stdout",
          "text": [
            "295/295 [==============================] - 0s 1ms/step\n",
            "295/295 [==============================] - 0s 1ms/step\n",
            "219/219 [==============================] - 0s 1ms/step\n"
          ]
        },
        {
          "output_type": "stream",
          "name": "stderr",
          "text": [
            "\rPermutation explainer:  75%|███████▌  | 75/100 [02:14<00:50,  2.02s/it]"
          ]
        },
        {
          "output_type": "stream",
          "name": "stdout",
          "text": [
            "257/257 [==============================] - 0s 1ms/step\n",
            "257/257 [==============================] - 0s 1ms/step\n",
            "201/201 [==============================] - 0s 1ms/step\n"
          ]
        },
        {
          "output_type": "stream",
          "name": "stderr",
          "text": [
            "\rPermutation explainer:  76%|███████▌  | 76/100 [02:16<00:47,  1.98s/it]"
          ]
        },
        {
          "output_type": "stream",
          "name": "stdout",
          "text": [
            "264/264 [==============================] - 0s 1ms/step\n",
            "264/264 [==============================] - 0s 1ms/step\n",
            "211/211 [==============================] - 0s 1ms/step\n"
          ]
        },
        {
          "output_type": "stream",
          "name": "stderr",
          "text": [
            "\rPermutation explainer:  77%|███████▋  | 77/100 [02:17<00:43,  1.87s/it]"
          ]
        },
        {
          "output_type": "stream",
          "name": "stdout",
          "text": [
            "266/266 [==============================] - 0s 1ms/step\n",
            "266/266 [==============================] - 0s 1ms/step\n",
            "213/213 [==============================] - 0s 2ms/step\n"
          ]
        },
        {
          "output_type": "stream",
          "name": "stderr",
          "text": [
            "\rPermutation explainer:  78%|███████▊  | 78/100 [02:19<00:38,  1.74s/it]"
          ]
        },
        {
          "output_type": "stream",
          "name": "stdout",
          "text": [
            "267/267 [==============================] - 0s 1ms/step\n",
            "267/267 [==============================] - 0s 1ms/step\n",
            "211/211 [==============================] - 0s 1ms/step\n"
          ]
        },
        {
          "output_type": "stream",
          "name": "stderr",
          "text": [
            "\rPermutation explainer:  79%|███████▉  | 79/100 [02:21<00:38,  1.84s/it]"
          ]
        },
        {
          "output_type": "stream",
          "name": "stdout",
          "text": [
            "267/267 [==============================] - 0s 2ms/step\n",
            "267/267 [==============================] - 0s 1ms/step\n",
            "209/209 [==============================] - 0s 1ms/step\n"
          ]
        },
        {
          "output_type": "stream",
          "name": "stderr",
          "text": [
            "\rPermutation explainer:  80%|████████  | 80/100 [02:22<00:36,  1.80s/it]"
          ]
        },
        {
          "output_type": "stream",
          "name": "stdout",
          "text": [
            "285/285 [==============================] - 0s 2ms/step\n",
            "285/285 [==============================] - 0s 1ms/step\n",
            "220/220 [==============================] - 0s 2ms/step\n"
          ]
        },
        {
          "output_type": "stream",
          "name": "stderr",
          "text": [
            "\rPermutation explainer:  81%|████████  | 81/100 [02:24<00:33,  1.77s/it]"
          ]
        },
        {
          "output_type": "stream",
          "name": "stdout",
          "text": [
            "238/238 [==============================] - 0s 1ms/step\n",
            "238/238 [==============================] - 0s 1ms/step\n",
            "188/188 [==============================] - 0s 1ms/step\n"
          ]
        },
        {
          "output_type": "stream",
          "name": "stderr",
          "text": [
            "\rPermutation explainer:  82%|████████▏ | 82/100 [02:26<00:32,  1.78s/it]"
          ]
        },
        {
          "output_type": "stream",
          "name": "stdout",
          "text": [
            "280/280 [==============================] - 0s 1ms/step\n",
            "280/280 [==============================] - 0s 1ms/step\n",
            "216/216 [==============================] - 0s 2ms/step\n"
          ]
        },
        {
          "output_type": "stream",
          "name": "stderr",
          "text": [
            "\rPermutation explainer:  83%|████████▎ | 83/100 [02:28<00:31,  1.87s/it]"
          ]
        },
        {
          "output_type": "stream",
          "name": "stdout",
          "text": [
            "287/287 [==============================] - 0s 1ms/step\n",
            "287/287 [==============================] - 0s 1ms/step\n",
            "214/214 [==============================] - 0s 2ms/step\n"
          ]
        },
        {
          "output_type": "stream",
          "name": "stderr",
          "text": [
            "\rPermutation explainer:  84%|████████▍ | 84/100 [02:30<00:29,  1.84s/it]"
          ]
        },
        {
          "output_type": "stream",
          "name": "stdout",
          "text": [
            "317/317 [==============================] - 0s 1ms/step\n",
            "317/317 [==============================] - 0s 1ms/step\n",
            "235/235 [==============================] - 0s 1ms/step\n"
          ]
        },
        {
          "output_type": "stream",
          "name": "stderr",
          "text": [
            "\rPermutation explainer:  85%|████████▌ | 85/100 [02:31<00:27,  1.81s/it]"
          ]
        },
        {
          "output_type": "stream",
          "name": "stdout",
          "text": [
            "285/285 [==============================] - 0s 1ms/step\n",
            "285/285 [==============================] - 0s 1ms/step\n",
            "216/216 [==============================] - 0s 1ms/step\n"
          ]
        },
        {
          "output_type": "stream",
          "name": "stderr",
          "text": [
            "\rPermutation explainer:  86%|████████▌ | 86/100 [02:33<00:25,  1.84s/it]"
          ]
        },
        {
          "output_type": "stream",
          "name": "stdout",
          "text": [
            "255/255 [==============================] - 0s 1ms/step\n",
            "255/255 [==============================] - 0s 1ms/step\n",
            "203/203 [==============================] - 0s 1ms/step\n"
          ]
        },
        {
          "output_type": "stream",
          "name": "stderr",
          "text": [
            "\rPermutation explainer:  87%|████████▋ | 87/100 [02:35<00:24,  1.91s/it]"
          ]
        },
        {
          "output_type": "stream",
          "name": "stdout",
          "text": [
            "299/299 [==============================] - 0s 1ms/step\n",
            "299/299 [==============================] - 0s 1ms/step\n",
            "227/227 [==============================] - 0s 1ms/step\n"
          ]
        },
        {
          "output_type": "stream",
          "name": "stderr",
          "text": [
            "\rPermutation explainer:  88%|████████▊ | 88/100 [02:37<00:22,  1.84s/it]"
          ]
        },
        {
          "output_type": "stream",
          "name": "stdout",
          "text": [
            "253/253 [==============================] - 0s 1ms/step\n",
            "253/253 [==============================] - 0s 2ms/step\n",
            "194/194 [==============================] - 0s 1ms/step\n"
          ]
        },
        {
          "output_type": "stream",
          "name": "stderr",
          "text": [
            "\rPermutation explainer:  89%|████████▉ | 89/100 [02:38<00:18,  1.70s/it]"
          ]
        },
        {
          "output_type": "stream",
          "name": "stdout",
          "text": [
            "274/274 [==============================] - 0s 1ms/step\n",
            "274/274 [==============================] - 0s 1ms/step\n",
            "213/213 [==============================] - 0s 1ms/step\n"
          ]
        },
        {
          "output_type": "stream",
          "name": "stderr",
          "text": [
            "\rPermutation explainer:  90%|█████████ | 90/100 [02:41<00:18,  1.80s/it]"
          ]
        },
        {
          "output_type": "stream",
          "name": "stdout",
          "text": [
            "271/271 [==============================] - 0s 1ms/step\n",
            "271/271 [==============================] - 0s 1ms/step\n",
            "206/206 [==============================] - 0s 1ms/step\n"
          ]
        },
        {
          "output_type": "stream",
          "name": "stderr",
          "text": [
            "\rPermutation explainer:  91%|█████████ | 91/100 [02:43<00:16,  1.88s/it]"
          ]
        },
        {
          "output_type": "stream",
          "name": "stdout",
          "text": [
            "255/255 [==============================] - 0s 1ms/step\n",
            "255/255 [==============================] - 0s 2ms/step\n",
            "199/199 [==============================] - 0s 1ms/step\n"
          ]
        },
        {
          "output_type": "stream",
          "name": "stderr",
          "text": [
            "\rPermutation explainer:  92%|█████████▏| 92/100 [02:44<00:14,  1.79s/it]"
          ]
        },
        {
          "output_type": "stream",
          "name": "stdout",
          "text": [
            "268/268 [==============================] - 0s 1ms/step\n",
            "268/268 [==============================] - 0s 2ms/step\n",
            "213/213 [==============================] - 0s 1ms/step\n"
          ]
        },
        {
          "output_type": "stream",
          "name": "stderr",
          "text": [
            "\rPermutation explainer:  93%|█████████▎| 93/100 [02:46<00:12,  1.82s/it]"
          ]
        },
        {
          "output_type": "stream",
          "name": "stdout",
          "text": [
            "282/282 [==============================] - 0s 1ms/step\n",
            "282/282 [==============================] - 0s 1ms/step\n",
            "214/214 [==============================] - 0s 1ms/step\n"
          ]
        },
        {
          "output_type": "stream",
          "name": "stderr",
          "text": [
            "\rPermutation explainer:  94%|█████████▍| 94/100 [02:48<00:11,  1.84s/it]"
          ]
        },
        {
          "output_type": "stream",
          "name": "stdout",
          "text": [
            "265/265 [==============================] - 0s 1ms/step\n",
            "265/265 [==============================] - 0s 1ms/step\n",
            "205/205 [==============================] - 0s 2ms/step\n"
          ]
        },
        {
          "output_type": "stream",
          "name": "stderr",
          "text": [
            "\rPermutation explainer:  95%|█████████▌| 95/100 [02:50<00:09,  1.85s/it]"
          ]
        },
        {
          "output_type": "stream",
          "name": "stdout",
          "text": [
            "256/256 [==============================] - 0s 1ms/step\n",
            "256/256 [==============================] - 0s 1ms/step\n",
            "195/195 [==============================] - 0s 1ms/step\n"
          ]
        },
        {
          "output_type": "stream",
          "name": "stderr",
          "text": [
            "\rPermutation explainer:  96%|█████████▌| 96/100 [02:51<00:07,  1.76s/it]"
          ]
        },
        {
          "output_type": "stream",
          "name": "stdout",
          "text": [
            "269/269 [==============================] - 0s 1ms/step\n",
            "269/269 [==============================] - 0s 1ms/step\n",
            "214/214 [==============================] - 0s 1ms/step\n"
          ]
        },
        {
          "output_type": "stream",
          "name": "stderr",
          "text": [
            "\rPermutation explainer:  97%|█████████▋| 97/100 [02:53<00:05,  1.79s/it]"
          ]
        },
        {
          "output_type": "stream",
          "name": "stdout",
          "text": [
            "256/256 [==============================] - 0s 1ms/step\n",
            "256/256 [==============================] - 0s 1ms/step\n",
            "197/197 [==============================] - 0s 1ms/step\n"
          ]
        },
        {
          "output_type": "stream",
          "name": "stderr",
          "text": [
            "\rPermutation explainer:  98%|█████████▊| 98/100 [02:55<00:03,  1.87s/it]"
          ]
        },
        {
          "output_type": "stream",
          "name": "stdout",
          "text": [
            "278/278 [==============================] - 0s 2ms/step\n",
            "278/278 [==============================] - 0s 2ms/step\n",
            "213/213 [==============================] - 0s 2ms/step\n"
          ]
        },
        {
          "output_type": "stream",
          "name": "stderr",
          "text": [
            "\rPermutation explainer:  99%|█████████▉| 99/100 [02:57<00:01,  1.81s/it]"
          ]
        },
        {
          "output_type": "stream",
          "name": "stdout",
          "text": [
            "269/269 [==============================] - 0s 2ms/step\n",
            "269/269 [==============================] - 0s 1ms/step\n",
            "202/202 [==============================] - 0s 1ms/step\n"
          ]
        },
        {
          "output_type": "stream",
          "name": "stderr",
          "text": [
            "\rPermutation explainer: 100%|██████████| 100/100 [02:59<00:00,  1.83s/it]"
          ]
        },
        {
          "output_type": "stream",
          "name": "stdout",
          "text": [
            "260/260 [==============================] - 0s 2ms/step\n",
            "260/260 [==============================] - 0s 1ms/step\n",
            "204/204 [==============================] - 0s 1ms/step\n"
          ]
        },
        {
          "output_type": "stream",
          "name": "stderr",
          "text": [
            "Permutation explainer: 101it [03:01,  1.93s/it]\n"
          ]
        },
        {
          "output_type": "display_data",
          "data": {
            "text/plain": [
              "<Figure size 576x684 with 1 Axes>"
            ],
            "image/png": "[encoded data removed]"
          },
          "metadata": {
            "needs_background": "light"
          }
        }
      ]
    }
  ]
}